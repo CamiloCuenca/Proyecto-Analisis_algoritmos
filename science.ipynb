{
 "cells": [
  {
   "cell_type": "code",
   "execution_count": 1,
   "id": "b86b79e0",
   "metadata": {},
   "outputs": [],
   "source": [
    "#imports requeridos para que el proyecto funcione\n",
    "import pandas as pd\n",
    "from selenium import webdriver\n",
    "from selenium.webdriver.common.by import By\n",
    "from selenium.webdriver.common.keys import Keys\n",
    "from selenium.webdriver.common.action_chains import ActionChains\n",
    "from selenium.webdriver.support.ui import WebDriverWait\n",
    "from selenium.webdriver.support import expected_conditions as EC\n",
    "from selenium.webdriver.chrome.service import Service\n",
    "import time\n",
    "import os\n",
    "\n",
    "import os\n",
    "from dotenv import load_dotenv\n",
    "\n",
    "# Cargar variables del archivo .env\n",
    "load_dotenv()\n",
    "\n",
    "\n",
    "# Obtener el correo electrónico\n",
    "email = os.getenv(\"EMAIL\")\n",
    "# Obtener la contraseña\n",
    "password = os.getenv(\"PASSWORD\")\n",
    "\n"
   ]
  },
  {
   "cell_type": "code",
   "execution_count": 2,
   "id": "107accae",
   "metadata": {},
   "outputs": [],
   "source": [
    "# Configurar la ruta de descarga (usando una ruta absoluta)\n",
    "download_path = os.getenv(\"DOWNLOAD_PATH\")  # Cambia esto a tu ruta real\n",
    "os.makedirs(download_path, exist_ok=True)  # Crear la carpeta si no existe\n",
    "\n",
    "chrome_options = webdriver.ChromeOptions()\n",
    "\n",
    "\n",
    "# Configuración de preferencias de descargas\n",
    "prefs = {\n",
    "    \"download.default_directory\": download_path,\n",
    "    \"download.prompt_for_download\": False,\n",
    "    \"download.directory_upgrade\": True,\n",
    "    \"safebrowsing.enabled\": False,  # Desactivar SafeBrowsing puede ayudar\n",
    "    \"profile.default_content_settings.popups\": 0,\n",
    "    \"profile.content_settings.exceptions.automatic_downloads.*.setting\": 1\n",
    "}\n",
    "chrome_options.add_experimental_option(\"prefs\", prefs)\n",
    "\n",
    "# Argumentos adicionales que pueden ayudar\n",
    "chrome_options.add_argument(\"--disable-extensions\")\n",
    "chrome_options.add_argument(\"--disable-download-notification\")\n",
    "chrome_options.add_argument(\"--disable-popup-blocking\")\n",
    "\n"
   ]
  },
  {
   "cell_type": "code",
   "execution_count": 3,
   "id": "ea76b107-725e-4400-9257-7fb1d38f5247",
   "metadata": {},
   "outputs": [],
   "source": [
    "# Iniciar el navegador\n",
    "driver = webdriver.Chrome(options=chrome_options)\n",
    "\n",
    "# Abrir la URL\n",
    "url1 = 'https://login.intelproxy.com/v2/inicio?cuenta=7Ah6RNpGWF22jjyq'\n",
    "driver.get(url1)"
   ]
  },
  {
   "cell_type": "code",
   "execution_count": 4,
   "id": "07ad7f36-7c99-429d-800b-876a19121d53",
   "metadata": {},
   "outputs": [],
   "source": [
    "time.sleep(5)"
   ]
  },
  {
   "cell_type": "code",
   "execution_count": 5,
   "id": "edf13d26-2572-4095-b6c3-e957c0a841cd",
   "metadata": {},
   "outputs": [],
   "source": [
    "login_button2 = WebDriverWait(driver, 20).until(\n",
    "        EC.element_to_be_clickable((By.XPATH, \"/html/body/div/div/div/div[1]/div[2]/a\")))\n",
    "login_button2.click()"
   ]
  },
  {
   "cell_type": "code",
   "execution_count": 6,
   "id": "c42e0c3c-d6b4-42d1-b926-eab2c561630f",
   "metadata": {},
   "outputs": [],
   "source": [
    "time.sleep(5)"
   ]
  },
  {
   "cell_type": "code",
   "execution_count": 7,
   "id": "fbed6ae7-e0cd-4ab2-b34b-c95616352b27",
   "metadata": {},
   "outputs": [],
   "source": [
    "email_input = WebDriverWait(driver, 10).until(\n",
    "    EC.element_to_be_clickable((By.ID, \"identifierId\"))\n",
    ")\n",
    "\n",
    "email_input.send_keys(email)\n",
    "email_input.send_keys(Keys.RETURN)"
   ]
  },
  {
   "cell_type": "code",
   "execution_count": 8,
   "id": "f7f9047b-c91b-4e31-bac4-0179f6cde327",
   "metadata": {},
   "outputs": [],
   "source": [
    "time.sleep(3)"
   ]
  },
  {
   "cell_type": "code",
   "execution_count": 9,
   "id": "e2680614-59fa-448e-a534-97d7712d5eb1",
   "metadata": {},
   "outputs": [],
   "source": [
    "password_input = WebDriverWait(driver, 10).until(\n",
    "    EC.element_to_be_clickable((By.NAME, \"Passwd\"))\n",
    ")# Nombre del campo de contraseña\n",
    "password_input.send_keys(password)\n",
    "password_input.send_keys(Keys.RETURN)"
   ]
  },
  {
   "cell_type": "code",
   "execution_count": 10,
   "id": "650d87c1-db0f-4fd1-b78c-7149412e2201",
   "metadata": {},
   "outputs": [],
   "source": [
    "time.sleep(3)"
   ]
  },
  {
   "cell_type": "code",
   "execution_count": 11,
   "id": "3d169be6-b00b-424a-85e5-6b4cc14422c4",
   "metadata": {},
   "outputs": [],
   "source": [
    "from selenium.webdriver.common.by import By\n",
    "from selenium.webdriver.support.ui import WebDriverWait\n",
    "from selenium.webdriver.support import expected_conditions as EC\n",
    "import time\n",
    "\n",
    "# Buscar el botón <summary> que contiene \"Fac. Ingeniería\"\n",
    "boton = WebDriverWait(driver, 20).until(\n",
    "    EC.element_to_be_clickable((By.XPATH, \"//summary[contains(., 'Fac. Ingeniería')]\"))\n",
    ")\n",
    "\n",
    "time.sleep(2)\n",
    "boton.click()"
   ]
  },
  {
   "cell_type": "code",
   "execution_count": 12,
   "id": "fd5936f6-36ec-4c1c-9f38-8d908b05fdb0",
   "metadata": {},
   "outputs": [],
   "source": [
    "time.sleep(2)"
   ]
  },
  {
   "cell_type": "code",
   "execution_count": 13,
   "id": "1c5194d8-173a-4992-be23-938f38d967a6",
   "metadata": {},
   "outputs": [],
   "source": [
    "from selenium.webdriver.common.by import By\n",
    "from selenium.webdriver.support.ui import WebDriverWait\n",
    "from selenium.webdriver.support import expected_conditions as EC\n",
    "\n",
    "# Buscar el enlace a IEEE por su XPath correcto\n",
    "enlaceSD = WebDriverWait(driver, 15).until(\n",
    "    EC.element_to_be_clickable((By.XPATH, \"//*[@id='facingenierasciencedirectdescubridor']//h2[@class='result-title']/a\"))\n",
    ")\n",
    "\n",
    "\n"
   ]
  },
  {
   "cell_type": "code",
   "execution_count": 14,
   "id": "11de7a41",
   "metadata": {},
   "outputs": [],
   "source": [
    "# Hacer clic en el enlace\n",
    "enlaceSD.click()"
   ]
  },
  {
   "cell_type": "code",
   "execution_count": 15,
   "id": "98425340-bf22-4bc8-94c3-c30de3281224",
   "metadata": {},
   "outputs": [],
   "source": [
    "# Esperar a que la barra de búsqueda esté en el DOM\n",
    "barra_busqueda = WebDriverWait(driver, 15).until(\n",
    "    EC.presence_of_element_located((By.XPATH, \"/html/body/div/div/div[1]/div[2]/div[2]/div/div/form/div[1]/div[1]/div[1]/input\"))\n",
    ")\n",
    "\n",
    "# Escribir \"generative artificial intelligence\"\n",
    "barra_busqueda.send_keys('generative artificial intelligence')"
   ]
  },
  {
   "cell_type": "code",
   "execution_count": 16,
   "id": "11e34ed8-c954-4841-8609-78791969d8a2",
   "metadata": {},
   "outputs": [],
   "source": [
    "# Esperar a que el botón de búsqueda esté clickeable\n",
    "boton_buscar = WebDriverWait(driver, 10).until(\n",
    "    EC.element_to_be_clickable((By.XPATH, \"/html/body/div/div/div[1]/div[2]/div[2]/div/div/form/div[2]/button\"))\n",
    ")\n",
    "\n",
    "boton_buscar.click()"
   ]
  },
  {
   "cell_type": "code",
   "execution_count": 17,
   "id": "dd35146d-eea7-4929-9354-ba7316284d9d",
   "metadata": {},
   "outputs": [],
   "source": [
    "time.sleep(5)"
   ]
  },
  {
   "cell_type": "markdown",
   "id": "3b86b50c",
   "metadata": {},
   "source": [
    "## Aqui llegue "
   ]
  },
  {
   "cell_type": "code",
   "execution_count": 18,
   "id": "bd4f146f-ee33-4f9b-b52f-d50b6d68edad",
   "metadata": {},
   "outputs": [],
   "source": [
    "# Función para verificar que la descarga se completó\n",
    "def esperar_descarga(carpeta, tiempo_max=60):\n",
    "    \"\"\"\n",
    "    Espera hasta que aparezca un nuevo archivo .bib en la carpeta de descargas\n",
    "    o hasta que se agote el tiempo máximo.\n",
    "    \"\"\"\n",
    "    inicio = time.time()\n",
    "    archivos_iniciales = set([f for f in os.listdir(carpeta) if f.endswith('.bib')])\n",
    "    \n",
    "    while time.time() - inicio < tiempo_max:\n",
    "        time.sleep(2)  # Comprobar cada 2 segundos\n",
    "        archivos_actuales = set([f for f in os.listdir(carpeta) if f.endswith('.bib')])\n",
    "        nuevos_archivos = archivos_actuales - archivos_iniciales\n",
    "        \n",
    "        if nuevos_archivos:\n",
    "            # Encontró nuevo archivo\n",
    "            nuevo_archivo = list(nuevos_archivos)[0]\n",
    "            return os.path.join(carpeta, nuevo_archivo)\n",
    "        \n",
    "    print(\"⚠️ Tiempo de espera de descarga agotado.\")\n",
    "    return None"
   ]
  },
  {
   "cell_type": "code",
   "execution_count": 19,
   "id": "432f2527-be26-475f-b689-75a127bac71d",
   "metadata": {},
   "outputs": [],
   "source": [
    "time.sleep(3)"
   ]
  },
  {
   "cell_type": "code",
   "execution_count": 23,
   "id": "0d471282-f30e-4eaf-8ebb-ffbd3a7cc1d9",
   "metadata": {},
   "outputs": [
    {
     "name": "stdout",
     "output_type": "stream",
     "text": [
      "Se hizo clic exitosamente en '100 resultados por página'\n"
     ]
    }
   ],
   "source": [
    "from selenium.webdriver.common.by import By\n",
    "from selenium.webdriver.support.ui import WebDriverWait\n",
    "from selenium.webdriver.support import expected_conditions as EC\n",
    "import time\n",
    "\n",
    "try:\n",
    "    # Esperar a que el menú de paginación esté presente\n",
    "    wait = WebDriverWait(driver, 30)\n",
    "    \n",
    "    # Primero localizamos el contenedor de la paginación\n",
    "    pagination_container = wait.until(\n",
    "        EC.presence_of_element_located((By.ID, \"srp-pagination-options\"))\n",
    "    )\n",
    "    \n",
    "    # Ahora buscamos específicamente el enlace para 100 resultados\n",
    "    # Usando el atributo data-aa-name que es único para este botón\n",
    "    cienItemsPerPage_link = wait.until(\n",
    "        EC.element_to_be_clickable((\n",
    "            By.CSS_SELECTOR, \n",
    "            'a[data-aa-name=\"srp-100-results-per-page\"]'\n",
    "        ))\n",
    "    )\n",
    "    \n",
    "    # Hacer scroll hasta el elemento\n",
    "    driver.execute_script(\"arguments[0].scrollIntoView(true);\", cienItemsPerPage_link)\n",
    "    time.sleep(1)  # Pequeña pausa para asegurar que el scroll se complete\n",
    "    \n",
    "    # Hacer clic usando JavaScript para evitar problemas de superposición\n",
    "    driver.execute_script(\"arguments[0].click();\", cienItemsPerPage_link)\n",
    "    \n",
    "    # Esperar a que la página se actualice\n",
    "    time.sleep(3)\n",
    "    \n",
    "    print(\"Se hizo clic exitosamente en '100 resultados por página'\")\n",
    "    \n",
    "except Exception as e:\n",
    "    print(f\"Ocurrió un error: {str(e)}\")"
   ]
  },
  {
   "cell_type": "code",
   "execution_count": null,
   "id": "1cd88100-cf8a-4f83-ae49-cb9719b694aa",
   "metadata": {},
   "outputs": [],
   "source": [
    "time.sleep(5)"
   ]
  },
  {
   "cell_type": "code",
   "execution_count": 24,
   "id": "2bc9bf02-0741-499b-88d0-e36bc8548e0c",
   "metadata": {},
   "outputs": [
    {
     "name": "stdout",
     "output_type": "stream",
     "text": [
      "\n",
      "==================================================\n",
      "Procesando página 1 de 15...\n",
      "✅ Checkbox de 'todos los artículos' marcado correctamente\n",
      "Intento de descarga #1 para página 1\n",
      "✅ Archivo descargado: IEEE Xplore Citation BibTeX Download 2025.9.24.22.54.21.bib\n",
      "🔄 Avanzando a la página 2...\n",
      "\n",
      "==================================================\n",
      "Procesando página 2 de 15...\n",
      "✅ Checkbox de 'todos los artículos' marcado correctamente\n",
      "Intento de descarga #1 para página 2\n",
      "✅ Archivo descargado: IEEE Xplore Citation BibTeX Download 2025.9.24.22.54.21.bib\n",
      "🔄 Avanzando a la página 3...\n"
     ]
    },
    {
     "ename": "KeyboardInterrupt",
     "evalue": "",
     "output_type": "error",
     "traceback": [
      "\u001b[31m---------------------------------------------------------------------------\u001b[39m",
      "\u001b[31mKeyboardInterrupt\u001b[39m                         Traceback (most recent call last)",
      "\u001b[36mCell\u001b[39m\u001b[36m \u001b[39m\u001b[32mIn[24]\u001b[39m\u001b[32m, line 99\u001b[39m\n\u001b[32m     97\u001b[39m     driver.execute_script(\u001b[33m\"\u001b[39m\u001b[33marguments[0].click();\u001b[39m\u001b[33m\"\u001b[39m, botonSiguientePag)\n\u001b[32m     98\u001b[39m     \u001b[38;5;28mprint\u001b[39m(\u001b[33mf\u001b[39m\u001b[33m\"\u001b[39m\u001b[33m🔄 Avanzando a la página \u001b[39m\u001b[38;5;132;01m{\u001b[39;00mpage_numScience\u001b[38;5;250m \u001b[39m+\u001b[38;5;250m \u001b[39m\u001b[32m1\u001b[39m\u001b[38;5;132;01m}\u001b[39;00m\u001b[33m...\u001b[39m\u001b[33m\"\u001b[39m)\n\u001b[32m---> \u001b[39m\u001b[32m99\u001b[39m     \u001b[43mtime\u001b[49m\u001b[43m.\u001b[49m\u001b[43msleep\u001b[49m\u001b[43m(\u001b[49m\u001b[32;43m5\u001b[39;49m\u001b[43m)\u001b[49m\n\u001b[32m    100\u001b[39m \u001b[38;5;28;01mexcept\u001b[39;00m \u001b[38;5;167;01mException\u001b[39;00m \u001b[38;5;28;01mas\u001b[39;00m e:\n\u001b[32m    101\u001b[39m     \u001b[38;5;28mprint\u001b[39m(\u001b[33mf\u001b[39m\u001b[33m\"\u001b[39m\u001b[33m⚠️ No se pudo avanzar de página: \u001b[39m\u001b[38;5;132;01m{\u001b[39;00me\u001b[38;5;132;01m}\u001b[39;00m\u001b[33m\"\u001b[39m)\n",
      "\u001b[31mKeyboardInterrupt\u001b[39m: "
     ]
    }
   ],
   "source": [
    "from selenium.webdriver.common.by import By\n",
    "from selenium.webdriver.support.ui import WebDriverWait\n",
    "from selenium.webdriver.support import expected_conditions as EC\n",
    "import time\n",
    "import os\n",
    "\n",
    "def esperar_descarga(download_path, timeout=30):\n",
    "    \"\"\"Espera a que aparezca un archivo .bib en la carpeta de descargas\"\"\"\n",
    "    for _ in range(timeout):\n",
    "        archivos = [f for f in os.listdir(download_path) if f.endswith(\".bib\")]\n",
    "        if archivos:\n",
    "            return os.path.join(download_path, archivos[0])\n",
    "        time.sleep(1)\n",
    "    return None\n",
    "\n",
    "# Forzamos 15 páginas por ahora\n",
    "total_pages = 15\n",
    "max_pages = total_pages\n",
    "\n",
    "for page_numScience in range(1, max_pages + 1):\n",
    "    print(f\"\\n{'='*50}\")\n",
    "    print(f\"Procesando página {page_numScience} de {max_pages}...\")\n",
    "\n",
    "    try:\n",
    "        # Seleccionar checkbox real (input, no span)\n",
    "        checkbox_input = WebDriverWait(driver, 20).until(\n",
    "            EC.presence_of_element_located((By.CSS_SELECTOR, \"#srp-toolbar input[type='checkbox']\"))\n",
    "        )\n",
    "\n",
    "        # Marcarlo si no está marcado\n",
    "        if not checkbox_input.is_selected():\n",
    "            driver.execute_script(\"arguments[0].click();\", checkbox_input)\n",
    "            time.sleep(1)\n",
    "\n",
    "        # Confirmar que quedó marcado\n",
    "        if checkbox_input.is_selected():\n",
    "            print(\"✅ Checkbox de 'todos los artículos' marcado correctamente\")\n",
    "        else:\n",
    "            print(\"⚠️ No se pudo marcar el checkbox, reintentando...\")\n",
    "            driver.execute_script(\"arguments[0].click();\", checkbox_input)\n",
    "            time.sleep(1)\n",
    "\n",
    "        # Botón de exportar\n",
    "        export_button = WebDriverWait(driver, 10).until(\n",
    "            EC.element_to_be_clickable((By.CSS_SELECTOR, \"span.export-all-link-text\"))\n",
    "        )\n",
    "        driver.execute_script(\"arguments[0].click();\", export_button)\n",
    "        time.sleep(1)\n",
    "\n",
    "        # Botón BibTeX\n",
    "        bibtex_button = WebDriverWait(driver, 10).until(\n",
    "            EC.element_to_be_clickable((By.CSS_SELECTOR, \"button[data-aa-button='srp-export-multi-bibtex']\"))\n",
    "        )\n",
    "\n",
    "        intentos_descarga = 0\n",
    "        descarga_exitosa = False\n",
    "        \n",
    "        while intentos_descarga < 3 and not descarga_exitosa:\n",
    "            try:\n",
    "                bibtex_button.click()\n",
    "                print(f\"Intento de descarga #{intentos_descarga+1} para página {page_numScience}\")\n",
    "                \n",
    "                nuevo_archivo = esperar_descarga(download_path, 20)\n",
    "                \n",
    "                if nuevo_archivo:\n",
    "                    print(f\"✅ Archivo descargado: {os.path.basename(nuevo_archivo)}\")\n",
    "                    descarga_exitosa = True\n",
    "                else:\n",
    "                    print(\"No se pudo detectar el archivo descargado\")\n",
    "                    \n",
    "            except Exception as e:\n",
    "                print(f\"Error en el intento {intentos_descarga + 1}: {e}\")\n",
    "            \n",
    "            intentos_descarga += 1\n",
    "            if not descarga_exitosa and intentos_descarga < 3:\n",
    "                time.sleep(2)\n",
    "\n",
    "        if not descarga_exitosa:\n",
    "            print(f\"❌ No se pudo completar la descarga para la página {page_numScience}\")\n",
    "\n",
    "        # Cerrar menú exportar\n",
    "        try:\n",
    "            close_button = driver.find_element(By.CSS_SELECTOR, \"button.export-close-button\")\n",
    "            close_button.click()\n",
    "            time.sleep(1)\n",
    "        except:\n",
    "            pass\n",
    "\n",
    "        # Pasar a la siguiente página\n",
    "        if page_numScience < max_pages:\n",
    "            try:\n",
    "                time.sleep(2)\n",
    "                driver.execute_script(\"window.scrollTo(0, document.body.scrollHeight);\")\n",
    "                botonSiguientePag = WebDriverWait(driver, 15).until(\n",
    "                    EC.element_to_be_clickable((By.XPATH, \"//a[@data-aa-name='srp-next-page']\"))\n",
    "                )\n",
    "                driver.execute_script(\"arguments[0].click();\", botonSiguientePag)\n",
    "                print(f\"🔄 Avanzando a la página {page_numScience + 1}...\")\n",
    "                time.sleep(5)\n",
    "            except Exception as e:\n",
    "                print(f\"⚠️ No se pudo avanzar de página: {e}\")\n",
    "                break\n",
    "\n",
    "    except Exception as e:\n",
    "        print(f\"⚠️ Error en la página {page_numScience}: {e}\")\n",
    "        continue\n",
    "\n",
    "print(f\"\\n✅ ¡Proceso completado! Se procesaron {max_pages} páginas.\")\n"
   ]
  },
  {
   "cell_type": "code",
   "execution_count": null,
   "id": "066315f5-d750-4cf3-b004-896d173761df",
   "metadata": {},
   "outputs": [],
   "source": [
    "driver.quit()"
   ]
  }
 ],
 "metadata": {
  "kernelspec": {
   "display_name": "Python 3",
   "language": "python",
   "name": "python3"
  },
  "language_info": {
   "codemirror_mode": {
    "name": "ipython",
    "version": 3
   },
   "file_extension": ".py",
   "mimetype": "text/x-python",
   "name": "python",
   "nbconvert_exporter": "python",
   "pygments_lexer": "ipython3",
   "version": "3.13.6"
  }
 },
 "nbformat": 4,
 "nbformat_minor": 5
}
