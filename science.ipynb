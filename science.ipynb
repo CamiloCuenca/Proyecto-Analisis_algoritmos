{
 "cells": [
  {
   "cell_type": "code",
   "execution_count": 1,
   "id": "b86b79e0",
   "metadata": {},
   "outputs": [],
   "source": [
    "#imports requeridos para que el proyecto funcione\n",
    "import pandas as pd\n",
    "from selenium import webdriver\n",
    "from selenium.webdriver.common.by import By\n",
    "from selenium.webdriver.common.keys import Keys\n",
    "from selenium.webdriver.common.action_chains import ActionChains\n",
    "from selenium.webdriver.support.ui import WebDriverWait\n",
    "from selenium.webdriver.support import expected_conditions as EC\n",
    "from selenium.webdriver.chrome.service import Service\n",
    "import time\n",
    "import os\n",
    "\n",
    "import os\n",
    "from dotenv import load_dotenv\n",
    "\n",
    "# Cargar variables del archivo .env\n",
    "load_dotenv()\n",
    "\n",
    "\n",
    "# Obtener el correo electrónico\n",
    "email = os.getenv(\"EMAIL\")\n",
    "# Obtener la contraseña\n",
    "password = os.getenv(\"PASSWORD\")\n",
    "\n"
   ]
  },
  {
   "cell_type": "code",
   "execution_count": 37,
   "id": "107accae",
   "metadata": {},
   "outputs": [],
   "source": [
    "# Configurar la ruta de descarga (usando una ruta absoluta)\n",
    "download_path = os.getenv(\"DOWNLOAD_PATH\")  # Cambia esto a tu ruta real\n",
    "os.makedirs(download_path, exist_ok=True)  # Crear la carpeta si no existe\n",
    "\n",
    "chrome_options = webdriver.ChromeOptions()\n",
    "\n",
    "\n",
    "# Configuración de preferencias de descargas\n",
    "prefs = {\n",
    "    \"download.default_directory\": download_path,\n",
    "    \"download.prompt_for_download\": False,\n",
    "    \"download.directory_upgrade\": True,\n",
    "    \"safebrowsing.enabled\": False,  # Desactivar SafeBrowsing puede ayudar\n",
    "    \"profile.default_content_settings.popups\": 0,\n",
    "    \"profile.content_settings.exceptions.automatic_downloads.*.setting\": 1\n",
    "}\n",
    "chrome_options.add_experimental_option(\"prefs\", prefs)\n",
    "\n",
    "# Argumentos adicionales que pueden ayudar\n",
    "chrome_options.add_argument(\"--disable-extensions\")\n",
    "chrome_options.add_argument(\"--disable-download-notification\")\n",
    "chrome_options.add_argument(\"--disable-popup-blocking\")\n",
    "\n"
   ]
  },
  {
   "cell_type": "code",
   "execution_count": 38,
   "id": "ea76b107-725e-4400-9257-7fb1d38f5247",
   "metadata": {},
   "outputs": [],
   "source": [
    "# Iniciar el navegador\n",
    "driver = webdriver.Chrome(options=chrome_options)\n",
    "\n",
    "# Abrir la URL\n",
    "url1 = 'https://login.intelproxy.com/v2/inicio?cuenta=7Ah6RNpGWF22jjyq'\n",
    "driver.get(url1)"
   ]
  },
  {
   "cell_type": "code",
   "execution_count": 39,
   "id": "07ad7f36-7c99-429d-800b-876a19121d53",
   "metadata": {},
   "outputs": [],
   "source": [
    "time.sleep(5)"
   ]
  },
  {
   "cell_type": "code",
   "execution_count": 40,
   "id": "edf13d26-2572-4095-b6c3-e957c0a841cd",
   "metadata": {},
   "outputs": [],
   "source": [
    "login_button2 = WebDriverWait(driver, 20).until(\n",
    "        EC.element_to_be_clickable((By.XPATH, \"/html/body/div/div/div/div[1]/div[2]/a\")))\n",
    "login_button2.click()"
   ]
  },
  {
   "cell_type": "code",
   "execution_count": 41,
   "id": "c42e0c3c-d6b4-42d1-b926-eab2c561630f",
   "metadata": {},
   "outputs": [],
   "source": [
    "time.sleep(5)"
   ]
  },
  {
   "cell_type": "code",
   "execution_count": 42,
   "id": "fbed6ae7-e0cd-4ab2-b34b-c95616352b27",
   "metadata": {},
   "outputs": [],
   "source": [
    "email_input = WebDriverWait(driver, 10).until(\n",
    "    EC.element_to_be_clickable((By.ID, \"identifierId\"))\n",
    ")\n",
    "\n",
    "email_input.send_keys(email)\n",
    "email_input.send_keys(Keys.RETURN)"
   ]
  },
  {
   "cell_type": "code",
   "execution_count": 43,
   "id": "f7f9047b-c91b-4e31-bac4-0179f6cde327",
   "metadata": {},
   "outputs": [],
   "source": [
    "time.sleep(3)"
   ]
  },
  {
   "cell_type": "code",
   "execution_count": 44,
   "id": "e2680614-59fa-448e-a534-97d7712d5eb1",
   "metadata": {},
   "outputs": [],
   "source": [
    "password_input = WebDriverWait(driver, 10).until(\n",
    "    EC.element_to_be_clickable((By.NAME, \"Passwd\"))\n",
    ")# Nombre del campo de contraseña\n",
    "password_input.send_keys(password)\n",
    "password_input.send_keys(Keys.RETURN)"
   ]
  },
  {
   "cell_type": "code",
   "execution_count": 45,
   "id": "650d87c1-db0f-4fd1-b78c-7149412e2201",
   "metadata": {},
   "outputs": [],
   "source": [
    "time.sleep(3)"
   ]
  },
  {
   "cell_type": "code",
   "execution_count": 46,
   "id": "3d169be6-b00b-424a-85e5-6b4cc14422c4",
   "metadata": {},
   "outputs": [],
   "source": [
    "from selenium.webdriver.common.by import By\n",
    "from selenium.webdriver.support.ui import WebDriverWait\n",
    "from selenium.webdriver.support import expected_conditions as EC\n",
    "import time\n",
    "\n",
    "# Buscar el botón <summary> que contiene \"Fac. Ingeniería\"\n",
    "boton = WebDriverWait(driver, 20).until(\n",
    "    EC.element_to_be_clickable((By.XPATH, \"//summary[contains(., 'Fac. Ingeniería')]\"))\n",
    ")\n",
    "\n",
    "time.sleep(2)\n",
    "boton.click()"
   ]
  },
  {
   "cell_type": "code",
   "execution_count": 47,
   "id": "fd5936f6-36ec-4c1c-9f38-8d908b05fdb0",
   "metadata": {},
   "outputs": [],
   "source": [
    "time.sleep(2)"
   ]
  },
  {
   "cell_type": "code",
   "execution_count": 50,
   "id": "1c5194d8-173a-4992-be23-938f38d967a6",
   "metadata": {},
   "outputs": [],
   "source": [
    "from selenium.webdriver.common.by import By\n",
    "from selenium.webdriver.support.ui import WebDriverWait\n",
    "from selenium.webdriver.support import expected_conditions as EC\n",
    "\n",
    "# Buscar el enlace a IEEE por su XPath correcto\n",
    "enlaceSD = WebDriverWait(driver, 15).until(\n",
    "    EC.element_to_be_clickable((By.XPATH, \"//*[@id='facingenierasciencedirectdescubridor']//h2[@class='result-title']/a\"))\n",
    ")\n",
    "\n",
    "\n"
   ]
  },
  {
   "cell_type": "code",
   "execution_count": 51,
   "id": "11de7a41",
   "metadata": {},
   "outputs": [],
   "source": [
    "# Hacer clic en el enlace\n",
    "enlaceSD.click()"
   ]
  },
  {
   "cell_type": "code",
   "execution_count": 53,
   "id": "98425340-bf22-4bc8-94c3-c30de3281224",
   "metadata": {},
   "outputs": [],
   "source": [
    "# Esperar a que la barra de búsqueda esté en el DOM\n",
    "barra_busqueda = WebDriverWait(driver, 15).until(\n",
    "    EC.presence_of_element_located((By.XPATH, \"/html/body/div/div/div[1]/div[2]/div[2]/div/div/form/div[1]/div[1]/div[1]/input\"))\n",
    ")\n",
    "\n",
    "# Escribir \"generative artificial intelligence\"\n",
    "barra_busqueda.send_keys('\"generative artificial intelligence\"')"
   ]
  },
  {
   "cell_type": "code",
   "execution_count": 54,
   "id": "11e34ed8-c954-4841-8609-78791969d8a2",
   "metadata": {},
   "outputs": [],
   "source": [
    "# Esperar a que el botón de búsqueda esté clickeable\n",
    "boton_buscar = WebDriverWait(driver, 10).until(\n",
    "    EC.element_to_be_clickable((By.XPATH, \"/html/body/div/div/div[1]/div[2]/div[2]/div/div/form/div[2]/button\"))\n",
    ")\n",
    "\n",
    "boton_buscar.click()"
   ]
  },
  {
   "cell_type": "code",
   "execution_count": 55,
   "id": "dd35146d-eea7-4929-9354-ba7316284d9d",
   "metadata": {},
   "outputs": [],
   "source": [
    "time.sleep(5)"
   ]
  },
  {
   "cell_type": "markdown",
   "id": "3b86b50c",
   "metadata": {},
   "source": [
    "## Aqui llegue "
   ]
  },
  {
   "cell_type": "code",
   "execution_count": 56,
   "id": "bd4f146f-ee33-4f9b-b52f-d50b6d68edad",
   "metadata": {},
   "outputs": [],
   "source": [
    "# Función para verificar que la descarga se completó\n",
    "def esperar_descarga(carpeta, tiempo_max=60):\n",
    "    \"\"\"\n",
    "    Espera hasta que aparezca un nuevo archivo .bib en la carpeta de descargas\n",
    "    o hasta que se agote el tiempo máximo.\n",
    "    \"\"\"\n",
    "    inicio = time.time()\n",
    "    archivos_iniciales = set([f for f in os.listdir(carpeta) if f.endswith('.bib')])\n",
    "    \n",
    "    while time.time() - inicio < tiempo_max:\n",
    "        time.sleep(2)  # Comprobar cada 2 segundos\n",
    "        archivos_actuales = set([f for f in os.listdir(carpeta) if f.endswith('.bib')])\n",
    "        nuevos_archivos = archivos_actuales - archivos_iniciales\n",
    "        \n",
    "        if nuevos_archivos:\n",
    "            # Encontró nuevo archivo\n",
    "            nuevo_archivo = list(nuevos_archivos)[0]\n",
    "            return os.path.join(carpeta, nuevo_archivo)\n",
    "        \n",
    "    print(\"⚠️ Tiempo de espera de descarga agotado.\")\n",
    "    return None"
   ]
  },
  {
   "cell_type": "code",
   "execution_count": 57,
   "id": "432f2527-be26-475f-b689-75a127bac71d",
   "metadata": {},
   "outputs": [],
   "source": [
    "time.sleep(3)"
   ]
  },
  {
   "cell_type": "code",
   "execution_count": 58,
   "id": "0d471282-f30e-4eaf-8ebb-ffbd3a7cc1d9",
   "metadata": {},
   "outputs": [],
   "source": [
    "# Esperar a que el items por page esté presente y clickeable\n",
    "cienItemsPerPage_link = WebDriverWait(driver, 30).until(\n",
    "EC.presence_of_element_located((By.XPATH, '/html/body/div[1]/div/div/div[2]/div/div/div/section/div/div[2]/div[3]/div[1]/div[2]/div[3]/div[1]/ol/li[3]/a'))\n",
    ")"
   ]
  },
  {
   "cell_type": "code",
   "execution_count": 59,
   "id": "74718a6b-6a72-406f-b356-41363f4e37b1",
   "metadata": {},
   "outputs": [],
   "source": [
    "cienItemsPerPage_link.click()"
   ]
  },
  {
   "cell_type": "code",
   "execution_count": 60,
   "id": "1cd88100-cf8a-4f83-ae49-cb9719b694aa",
   "metadata": {},
   "outputs": [],
   "source": [
    "time.sleep(5)"
   ]
  },
  {
   "cell_type": "code",
   "execution_count": 63,
   "id": "2bc9bf02-0741-499b-88d0-e36bc8548e0c",
   "metadata": {},
   "outputs": [
    {
     "name": "stdout",
     "output_type": "stream",
     "text": [
      "No se pudo determinar el número de páginas. Asumiendo 1 página.\n",
      "\n",
      "==================================================\n",
      "Procesando página 1 de 1...\n",
      "Intento de descarga #1 para página 1\n",
      "No se pudo descargar el archivo\n",
      "Error en el intento 2: Message: stale element reference: stale element not found in the current frame\n",
      "  (Session info: chrome=140.0.7339.128); For documentation on this error, please visit: https://www.selenium.dev/documentation/webdriver/troubleshooting/errors#staleelementreferenceexception\n",
      "Stacktrace:\n",
      "\tGetHandleVerifier [0x0x7ff6f401fc95+79861]\n",
      "\tGetHandleVerifier [0x0x7ff6f401fcf0+79952]\n",
      "\t(No symbol) [0x0x7ff6f3d9cada]\n",
      "\t(No symbol) [0x0x7ff6f3da461a]\n",
      "\t(No symbol) [0x0x7ff6f3da770f]\n",
      "\t(No symbol) [0x0x7ff6f3da77cf]\n",
      "\t(No symbol) [0x0x7ff6f3df66cd]\n",
      "\t(No symbol) [0x0x7ff6f3de72a3]\n",
      "\t(No symbol) [0x0x7ff6f3e1cada]\n",
      "\t(No symbol) [0x0x7ff6f3de6bc6]\n",
      "\t(No symbol) [0x0x7ff6f3e1ccf0]\n",
      "\t(No symbol) [0x0x7ff6f3e44f8b]\n",
      "\t(No symbol) [0x0x7ff6f3e1c8b3]\n",
      "\t(No symbol) [0x0x7ff6f3de5272]\n",
      "\t(No symbol) [0x0x7ff6f3de6043]\n",
      "\tGetHandleVerifier [0x0x7ff6f42db9cd+2946349]\n",
      "\tGetHandleVerifier [0x0x7ff6f42d5c4a+2922410]\n",
      "\tGetHandleVerifier [0x0x7ff6f42f59d7+3052855]\n",
      "\tGetHandleVerifier [0x0x7ff6f403aa7e+189918]\n",
      "\tGetHandleVerifier [0x0x7ff6f4042a1f+222591]\n",
      "\tGetHandleVerifier [0x0x7ff6f4028ab4+116244]\n",
      "\tGetHandleVerifier [0x0x7ff6f4028c69+116681]\n",
      "\tGetHandleVerifier [0x0x7ff6f400f048+11176]\n",
      "\tBaseThreadInitThunk [0x0x7ffac4efe8d7+23]\n",
      "\tRtlUserThreadStart [0x0x7ffac7028d9c+44]\n",
      "\n",
      "Error en el intento 3: Message: stale element reference: stale element not found in the current frame\n",
      "  (Session info: chrome=140.0.7339.128); For documentation on this error, please visit: https://www.selenium.dev/documentation/webdriver/troubleshooting/errors#staleelementreferenceexception\n",
      "Stacktrace:\n",
      "\tGetHandleVerifier [0x0x7ff6f401fc95+79861]\n",
      "\tGetHandleVerifier [0x0x7ff6f401fcf0+79952]\n",
      "\t(No symbol) [0x0x7ff6f3d9cada]\n",
      "\t(No symbol) [0x0x7ff6f3da461a]\n",
      "\t(No symbol) [0x0x7ff6f3da770f]\n",
      "\t(No symbol) [0x0x7ff6f3da77cf]\n",
      "\t(No symbol) [0x0x7ff6f3df66cd]\n",
      "\t(No symbol) [0x0x7ff6f3de72a3]\n",
      "\t(No symbol) [0x0x7ff6f3e1cada]\n",
      "\t(No symbol) [0x0x7ff6f3de6bc6]\n",
      "\t(No symbol) [0x0x7ff6f3e1ccf0]\n",
      "\t(No symbol) [0x0x7ff6f3e44f8b]\n",
      "\t(No symbol) [0x0x7ff6f3e1c8b3]\n",
      "\t(No symbol) [0x0x7ff6f3de5272]\n",
      "\t(No symbol) [0x0x7ff6f3de6043]\n",
      "\tGetHandleVerifier [0x0x7ff6f42db9cd+2946349]\n",
      "\tGetHandleVerifier [0x0x7ff6f42d5c4a+2922410]\n",
      "\tGetHandleVerifier [0x0x7ff6f42f59d7+3052855]\n",
      "\tGetHandleVerifier [0x0x7ff6f403aa7e+189918]\n",
      "\tGetHandleVerifier [0x0x7ff6f4042a1f+222591]\n",
      "\tGetHandleVerifier [0x0x7ff6f4028ab4+116244]\n",
      "\tGetHandleVerifier [0x0x7ff6f4028c69+116681]\n",
      "\tGetHandleVerifier [0x0x7ff6f400f048+11176]\n",
      "\tBaseThreadInitThunk [0x0x7ffac4efe8d7+23]\n",
      "\tRtlUserThreadStart [0x0x7ffac7028d9c+44]\n",
      "\n",
      "❌ No se pudo completar la descarga para la página 1\n",
      "\n",
      "✅ ¡Proceso completado! Se procesaron 1 páginas.\n"
     ]
    }
   ],
   "source": [
    "from selenium.webdriver.common.by import By\n",
    "from selenium.webdriver.support.ui import WebDriverWait\n",
    "from selenium.webdriver.support import expected_conditions as EC\n",
    "import time\n",
    "import os\n",
    "\n",
    "def esperar_descarga(download_path, timeout=30):\n",
    "    \"\"\"Función para esperar a que se complete la descarga\"\"\"\n",
    "    # Implementa tu lógica de espera de descarga aquí\n",
    "    # Debe retornar la ruta del archivo descargado o None si falla\n",
    "    pass\n",
    "\n",
    "# Primero verificamos cuántas páginas hay\n",
    "try:\n",
    "    # Intentar encontrar los botones de paginación\n",
    "    pagination = WebDriverWait(driver, 10).until(\n",
    "        EC.presence_of_all_elements_located((By.CSS_SELECTOR, \"li.pagination-page\"))\n",
    "    )\n",
    "    if pagination:\n",
    "        # Si hay paginación, obtenemos el número de la última página\n",
    "        total_pages = int(pagination[-1].text)\n",
    "    else:\n",
    "        # Si no hay paginación, solo hay una página\n",
    "        total_pages = 1\n",
    "    print(f\"Se encontraron {total_pages} páginas de resultados.\")\n",
    "    \n",
    "except Exception as e:\n",
    "    print(\"No se pudo determinar el número de páginas. Asumiendo 1 página.\")\n",
    "    total_pages = 1\n",
    "\n",
    "# Ajustamos el rango para descargar solo las páginas existentes (máximo 11)\n",
    "max_pages = min(11, total_pages)\n",
    "\n",
    "for page_numScience in range(1, max_pages + 1):\n",
    "    print(f\"\\n{'='*50}\")\n",
    "    print(f\"Procesando página {page_numScience} de {max_pages}...\")\n",
    "\n",
    "    try:\n",
    "        # Seleccionar checkbox\n",
    "        checkbox_items = WebDriverWait(driver, 35).until(\n",
    "            EC.element_to_be_clickable((By.XPATH, \"//*[@id='srp-toolbar']/div[1]/span/span[1]/span[1]/div/div/label/span[1]\"))\n",
    "        )\n",
    "        driver.execute_script(\"arguments[0].click();\", checkbox_items)\n",
    "        time.sleep(1)\n",
    "\n",
    "        # Hacer clic en el botón de exportación\n",
    "        export_button = WebDriverWait(driver, 10).until(\n",
    "            EC.element_to_be_clickable((By.CSS_SELECTOR, \"span.export-all-link-text\"))\n",
    "        )\n",
    "        driver.execute_script(\"arguments[0].click();\", export_button)\n",
    "        time.sleep(1)\n",
    "\n",
    "        # Proceso de descarga\n",
    "        try:\n",
    "            bibtex_button = WebDriverWait(driver, 10).until(\n",
    "                EC.element_to_be_clickable((By.CSS_SELECTOR, \"button[data-aa-button='srp-export-multi-bibtex']\"))\n",
    "            )\n",
    "\n",
    "            intentos_descarga = 0\n",
    "            descarga_exitosa = False\n",
    "            \n",
    "            while intentos_descarga < 3 and not descarga_exitosa:\n",
    "                try:\n",
    "                    bibtex_button.click()\n",
    "                    print(f\"Intento de descarga #{intentos_descarga+1} para página {page_numScience}\")\n",
    "                    \n",
    "                    nuevo_archivo = esperar_descarga(download_path, 20)\n",
    "                    \n",
    "                    if nuevo_archivo:\n",
    "                        print(f\"✅ Descarga exitosa para página {page_numScience}: {os.path.basename(nuevo_archivo)}\")\n",
    "                        nuevo_nombre = f\"science_{page_numScience}.bib\"\n",
    "                        try:\n",
    "                            os.rename(nuevo_archivo, os.path.join(download_path, nuevo_nombre))\n",
    "                            print(f\"Archivo renombrado a: {nuevo_nombre}\")\n",
    "                            descarga_exitosa = True\n",
    "                        except Exception as e:\n",
    "                            print(f\"Error al renombrar archivo: {e}\")\n",
    "                    else:\n",
    "                        print(\"No se pudo descargar el archivo\")\n",
    "                        \n",
    "                except Exception as e:\n",
    "                    print(f\"Error en el intento {intentos_descarga + 1}: {e}\")\n",
    "                \n",
    "                intentos_descarga += 1\n",
    "                if not descarga_exitosa and intentos_descarga < 3:\n",
    "                    time.sleep(2)  # Esperar antes de reintentar\n",
    "\n",
    "            if not descarga_exitosa:\n",
    "                print(f\"❌ No se pudo completar la descarga para la página {page_numScience}\")\n",
    "\n",
    "        except Exception as e:\n",
    "            print(f\"⚠️ Error en el proceso de descarga en página {page_numScience}: {e}\")\n",
    "\n",
    "        # Cerrar el menú de exportación si está abierto\n",
    "        try:\n",
    "            close_button = driver.find_element(By.CSS_SELECTOR, \"button.export-close-button\")\n",
    "            close_button.click()\n",
    "            time.sleep(1)\n",
    "        except:\n",
    "            pass\n",
    "\n",
    "        # Solo avanzar si no es la última página\n",
    "        if page_numScience < max_pages:\n",
    "            try:\n",
    "                # Esperar a que la página esté completamente cargada\n",
    "                time.sleep(3)\n",
    "                \n",
    "                # Hacer scroll hasta el final de la página\n",
    "                driver.execute_script(\"window.scrollTo(0, document.body.scrollHeight);\")\n",
    "                time.sleep(2)\n",
    "                \n",
    "                # Localizar y hacer clic en el botón de siguiente página\n",
    "                botonSiguientePag = WebDriverWait(driver, 15).until(\n",
    "                    EC.element_to_be_clickable((By.XPATH, \"//a[@data-aa-name='srp-next-page']\"))\n",
    "                )\n",
    "                \n",
    "                driver.execute_script(\"arguments[0].scrollIntoView({block: 'center'});\", botonSiguientePag)\n",
    "                time.sleep(1)\n",
    "                driver.execute_script(\"arguments[0].click();\", botonSiguientePag)\n",
    "                \n",
    "                print(f\"🔄 Avanzando a la página {page_numScience + 1}...\")\n",
    "                \n",
    "                # Esperar a que la nueva página cargue\n",
    "                time.sleep(5)\n",
    "                WebDriverWait(driver, 20).until(\n",
    "                    EC.presence_of_element_located((By.CSS_SELECTOR, \".result-list, #results, .search-results\"))\n",
    "                )\n",
    "                \n",
    "            except Exception as e:\n",
    "                print(f\"⚠️ No se pudo hacer clic en 'Siguiente' en página {page_numScience}: {e}\")\n",
    "                break  # Salir del bucle si no se puede avanzar\n",
    "\n",
    "    except Exception as e:\n",
    "        print(f\"⚠️ Error en la página {page_numScience}: {e}\")\n",
    "        continue\n",
    "\n",
    "print(f\"\\n✅ ¡Proceso completado! Se procesaron {max_pages} páginas.\")"
   ]
  },
  {
   "cell_type": "code",
   "execution_count": null,
   "id": "066315f5-d750-4cf3-b004-896d173761df",
   "metadata": {},
   "outputs": [],
   "source": [
    "driver.quit()"
   ]
  }
 ],
 "metadata": {
  "kernelspec": {
   "display_name": "Python 3",
   "language": "python",
   "name": "python3"
  },
  "language_info": {
   "codemirror_mode": {
    "name": "ipython",
    "version": 3
   },
   "file_extension": ".py",
   "mimetype": "text/x-python",
   "name": "python",
   "nbconvert_exporter": "python",
   "pygments_lexer": "ipython3",
   "version": "3.13.6"
  }
 },
 "nbformat": 4,
 "nbformat_minor": 5
}
