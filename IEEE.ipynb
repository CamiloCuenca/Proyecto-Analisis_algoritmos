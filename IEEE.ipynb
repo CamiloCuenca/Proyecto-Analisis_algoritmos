{
 "cells": [
  {
   "cell_type": "markdown",
   "id": "40e9b40b",
   "metadata": {},
   "source": [
    "# 1 Priemra pagina IEEE"
   ]
  },
  {
   "cell_type": "code",
   "execution_count": 57,
   "id": "230da269",
   "metadata": {
    "execution": {
     "iopub.execute_input": "2025-09-24T18:03:16.278461Z",
     "iopub.status.busy": "2025-09-24T18:03:16.277687Z",
     "iopub.status.idle": "2025-09-24T18:03:17.891129Z",
     "shell.execute_reply": "2025-09-24T18:03:17.889935Z"
    }
   },
   "outputs": [],
   "source": [
    "#imports requeridos para que el proyecto funcione\n",
    "import pandas as pd\n",
    "from selenium import webdriver\n",
    "from selenium.webdriver.common.by import By\n",
    "from selenium.webdriver.common.keys import Keys\n",
    "from selenium.webdriver.common.action_chains import ActionChains\n",
    "from selenium.webdriver.support.ui import WebDriverWait\n",
    "from selenium.webdriver.support import expected_conditions as EC\n",
    "from selenium.webdriver.chrome.service import Service\n",
    "import time\n",
    "import os\n",
    "\n",
    "import os\n",
    "from dotenv import load_dotenv\n",
    "\n",
    "# Cargar variables del archivo .env\n",
    "load_dotenv()\n",
    "\n",
    "\n",
    "# Obtener el correo electrónico\n",
    "email = os.getenv(\"EMAIL\")\n",
    "# Obtener la contraseña\n",
    "password = os.getenv(\"PASSWORD\")\n",
    "\n"
   ]
  },
  {
   "cell_type": "code",
   "execution_count": 58,
   "id": "fcf8547f",
   "metadata": {
    "execution": {
     "iopub.execute_input": "2025-09-24T18:03:17.897196Z",
     "iopub.status.busy": "2025-09-24T18:03:17.895639Z",
     "iopub.status.idle": "2025-09-24T18:03:17.906386Z",
     "shell.execute_reply": "2025-09-24T18:03:17.902821Z"
    }
   },
   "outputs": [],
   "source": [
    "# Configurar la ruta de descarga (usando una ruta absoluta)\n",
    "download_path = os.getenv(\"DOWNLOAD_PATH\")  # Cambia esto a tu ruta real\n",
    "os.makedirs(download_path, exist_ok=True)  # Crear la carpeta si no existe\n",
    "\n",
    "chrome_options = webdriver.ChromeOptions()\n",
    "\n",
    "\n",
    "# Configuración de preferencias de descargas\n",
    "prefs = {\n",
    "    \"download.default_directory\": download_path,\n",
    "    \"download.prompt_for_download\": False,\n",
    "    \"download.directory_upgrade\": True,\n",
    "    \"safebrowsing.enabled\": False,  # Desactivar SafeBrowsing puede ayudar\n",
    "    \"profile.default_content_settings.popups\": 0,\n",
    "    \"profile.content_settings.exceptions.automatic_downloads.*.setting\": 1\n",
    "}\n",
    "chrome_options.add_experimental_option(\"prefs\", prefs)\n",
    "\n",
    "# Argumentos adicionales que pueden ayudar\n",
    "chrome_options.add_argument(\"--disable-extensions\")\n",
    "chrome_options.add_argument(\"--disable-download-notification\")\n",
    "chrome_options.add_argument(\"--disable-popup-blocking\")\n",
    "\n"
   ]
  },
  {
   "cell_type": "code",
   "execution_count": 59,
   "id": "394c3cd5",
   "metadata": {
    "execution": {
     "iopub.execute_input": "2025-09-24T18:03:17.910571Z",
     "iopub.status.busy": "2025-09-24T18:03:17.910218Z",
     "iopub.status.idle": "2025-09-24T18:03:24.217312Z",
     "shell.execute_reply": "2025-09-24T18:03:24.216070Z"
    }
   },
   "outputs": [],
   "source": [
    "# Iniciar el navegador\n",
    "driver = webdriver.Chrome(options=chrome_options)\n",
    "\n",
    "# Abrir la URL\n",
    "url1 = 'https://login.intelproxy.com/v2/inicio?cuenta=7Ah6RNpGWF22jjyq'\n",
    "driver.get(url1)"
   ]
  },
  {
   "cell_type": "code",
   "execution_count": 60,
   "id": "629c4f0c",
   "metadata": {
    "execution": {
     "iopub.execute_input": "2025-09-24T18:03:24.226944Z",
     "iopub.status.busy": "2025-09-24T18:03:24.225970Z",
     "iopub.status.idle": "2025-09-24T18:03:27.040754Z",
     "shell.execute_reply": "2025-09-24T18:03:27.039513Z"
    }
   },
   "outputs": [],
   "source": [
    "login_button = WebDriverWait(driver, 20).until(\n",
    "        EC.element_to_be_clickable((By.XPATH, \"/html/body/div/div/div/div[1]/div[2]/a\"))\n",
    ")\n",
    "login_button.click()"
   ]
  },
  {
   "cell_type": "code",
   "execution_count": 61,
   "id": "df8591be",
   "metadata": {
    "execution": {
     "iopub.execute_input": "2025-09-24T18:03:27.046021Z",
     "iopub.status.busy": "2025-09-24T18:03:27.045403Z",
     "iopub.status.idle": "2025-09-24T18:03:28.756512Z",
     "shell.execute_reply": "2025-09-24T18:03:28.752232Z"
    }
   },
   "outputs": [],
   "source": [
    "email_input = WebDriverWait(driver, 10).until(\n",
    "    EC.element_to_be_clickable((By.ID, \"identifierId\"))\n",
    ")\n",
    "\n",
    "email_input.send_keys(email)\n",
    "email_input.send_keys(Keys.RETURN)"
   ]
  },
  {
   "cell_type": "code",
   "execution_count": 62,
   "id": "19ccc609",
   "metadata": {
    "execution": {
     "iopub.execute_input": "2025-09-24T18:03:28.761602Z",
     "iopub.status.busy": "2025-09-24T18:03:28.761218Z",
     "iopub.status.idle": "2025-09-24T18:03:31.791124Z",
     "shell.execute_reply": "2025-09-24T18:03:31.789811Z"
    }
   },
   "outputs": [],
   "source": [
    "password_input = WebDriverWait(driver, 10).until(\n",
    "    EC.element_to_be_clickable((By.NAME, \"Passwd\"))\n",
    ")# Nombre del campo de contraseña\n",
    "password_input.send_keys(password)\n",
    "password_input.send_keys(Keys.RETURN)"
   ]
  },
  {
   "cell_type": "code",
   "execution_count": 63,
   "id": "322d9c9f",
   "metadata": {},
   "outputs": [],
   "source": [
    "from selenium.webdriver.common.by import By\n",
    "from selenium.webdriver.support.ui import WebDriverWait\n",
    "from selenium.webdriver.support import expected_conditions as EC\n",
    "import time\n",
    "\n",
    "# Buscar el botón <summary> que contiene \"Fac. Ingeniería\"\n",
    "boton = WebDriverWait(driver, 20).until(\n",
    "    EC.element_to_be_clickable((By.XPATH, \"//summary[contains(., 'Fac. Ingeniería')]\"))\n",
    ")\n",
    "\n",
    "time.sleep(2)\n",
    "boton.click()"
   ]
  },
  {
   "cell_type": "code",
   "execution_count": 64,
   "id": "38be22d9",
   "metadata": {},
   "outputs": [],
   "source": [
    "from selenium.webdriver.common.by import By\n",
    "from selenium.webdriver.support.ui import WebDriverWait\n",
    "from selenium.webdriver.support import expected_conditions as EC\n",
    "\n",
    "# Buscar el enlace a IEEE por su XPath correcto\n",
    "enlaceIEEE = WebDriverWait(driver, 15).until(\n",
    "    EC.element_to_be_clickable((By.XPATH, \"//*[@id='facingenieraieeeinstituteofelectricalandelectronicsengineersdescubridor']//h2[@class='result-title']/a\"))\n",
    ")\n"
   ]
  },
  {
   "cell_type": "code",
   "execution_count": 65,
   "id": "ffb80de6",
   "metadata": {},
   "outputs": [],
   "source": [
    "# Hacer clic en el enlace\n",
    "enlaceIEEE.click()"
   ]
  },
  {
   "cell_type": "code",
   "execution_count": 66,
   "id": "dbb046ef",
   "metadata": {},
   "outputs": [
    {
     "name": "stdout",
     "output_type": "stream",
     "text": [
      "🍪 Banner de cookies cerrado.\n"
     ]
    }
   ],
   "source": [
    "try:\n",
    "    # Esperar a que aparezca cualquiera de los botones\n",
    "    boton_cookies = WebDriverWait(driver, 10).until(\n",
    "        EC.element_to_be_clickable((By.CSS_SELECTOR, \"button.osano-cm-dialog__close, button.osano-cm-denyAll, button.osano-cm-accept-all\"))\n",
    "    )\n",
    "    driver.execute_script(\"arguments[0].click();\", boton_cookies)\n",
    "    print(\"🍪 Banner de cookies cerrado.\")\n",
    "except Exception as e:\n",
    "    print(f\"⚠ No apareció el banner de cookies o ya estaba cerrado: {e}\")\n"
   ]
  },
  {
   "cell_type": "code",
   "execution_count": 67,
   "id": "288373e3",
   "metadata": {},
   "outputs": [],
   "source": [
    "# Esperar a que la barra de búsqueda esté en el DOM\n",
    "barra_busqueda = WebDriverWait(driver, 15).until(\n",
    "    EC.presence_of_element_located((By.XPATH, \"//*[@id='LayoutWrapper']/div/div/div[3]/div/xpl-root/header/xpl-header/div/div[2]/div[2]/xpl-search-bar-migr/div/form/div[2]/div/div[1]/xpl-typeahead-migr/div/input\"))\n",
    ")"
   ]
  },
  {
   "cell_type": "code",
   "execution_count": 68,
   "id": "e841c205",
   "metadata": {},
   "outputs": [],
   "source": [
    "# Escribir \"generative artificial intelligence\" entre comillas para reducir el rango de busqueda\n",
    "barra_busqueda.send_keys('generative artificial intelligence')"
   ]
  },
  {
   "cell_type": "code",
   "execution_count": 69,
   "id": "f4208c11",
   "metadata": {},
   "outputs": [],
   "source": [
    "# Esperar a que el botón de búsqueda esté clickeable\n",
    "boton_buscar = WebDriverWait(driver, 10).until(\n",
    "    EC.element_to_be_clickable((By.XPATH, \"//*[@id='LayoutWrapper']/div/div/div[3]/div/xpl-root/header/xpl-header/div/div[2]/div[2]/xpl-search-bar-migr/div/form/div[2]/div/div[2]/button\"))\n",
    ")"
   ]
  },
  {
   "cell_type": "code",
   "execution_count": 70,
   "id": "600dbe47",
   "metadata": {},
   "outputs": [],
   "source": [
    "boton_buscar.click()"
   ]
  },
  {
   "cell_type": "code",
   "execution_count": 71,
   "id": "d64d8d1a",
   "metadata": {},
   "outputs": [],
   "source": [
    "# Función para verificar que la descarga se completó\n",
    "def esperar_descarga(carpeta, tiempo_max=30):\n",
    "    \"\"\"\n",
    "    Espera hasta que aparezca un nuevo archivo .bib en la carpeta de descargas\n",
    "    o hasta que se agote el tiempo máximo.\n",
    "    \"\"\"\n",
    "    inicio = time.time()\n",
    "    archivos_iniciales = set([f for f in os.listdir(carpeta) if f.endswith('.bib')])\n",
    "    \n",
    "    while time.time() - inicio < tiempo_max:\n",
    "        time.sleep(2)  # Comprobar cada 2 segundos\n",
    "        archivos_actuales = set([f for f in os.listdir(carpeta) if f.endswith('.bib')])\n",
    "        nuevos_archivos = archivos_actuales - archivos_iniciales\n",
    "        \n",
    "        if nuevos_archivos:\n",
    "            # Encontró nuevo archivo\n",
    "            nuevo_archivo = list(nuevos_archivos)[0]\n",
    "            return os.path.join(carpeta, nuevo_archivo)\n",
    "        \n",
    "    print(\"⚠️ Tiempo de espera de descarga agotado.\")\n",
    "    return None\n"
   ]
  },
  {
   "cell_type": "code",
   "execution_count": 72,
   "id": "9ca2b951",
   "metadata": {},
   "outputs": [
    {
     "name": "stdout",
     "output_type": "stream",
     "text": [
      "⚠ No apareció la ventana de cookies o ya estaba cerrada.\n"
     ]
    }
   ],
   "source": [
    "try:\n",
    "    # Esperar a que aparezca el botón de aceptar/cerrar cookies\n",
    "    boton_cookies = WebDriverWait(driver, 20).until(\n",
    "        EC.element_to_be_clickable((By.XPATH, \"/html/body/div[1]/div[2]/div[2]/button[2]\"))  # Usa el XPath correcto\n",
    "    )\n",
    "    boton_cookies.click()\n",
    "    print(\"Se cerró la ventana de cookies.\")\n",
    "except:\n",
    "    print(\"⚠ No apareció la ventana de cookies o ya estaba cerrada.\")"
   ]
  },
  {
   "cell_type": "code",
   "execution_count": 73,
   "id": "ac90adff",
   "metadata": {},
   "outputs": [],
   "source": [
    "# 1. Hacer clic en el menú \"Items Per Page\"\n",
    "itemsPerPage_link = WebDriverWait(driver, 10).until(\n",
    "    EC.element_to_be_clickable((By.ID, 'dropdownPerPageLabel'))\n",
    ")\n",
    "itemsPerPage_link.click()\n",
    "\n",
    "# 2. Seleccionar la opción deseada (ejemplo: 100)\n",
    "option_100 = WebDriverWait(driver, 10).until(\n",
    "    EC.element_to_be_clickable((By.XPATH, \"//button[contains(text(), '100')]\"))\n",
    ")\n",
    "option_100.click()\n"
   ]
  },
  {
   "cell_type": "code",
   "execution_count": null,
   "id": "e5221ffd",
   "metadata": {},
   "outputs": [
    {
     "name": "stdout",
     "output_type": "stream",
     "text": [
      "\n",
      "Procesando página 1...\n"
     ]
    },
    {
     "ename": "KeyboardInterrupt",
     "evalue": "",
     "output_type": "error",
     "traceback": [
      "\u001b[31m---------------------------------------------------------------------------\u001b[39m",
      "\u001b[31mKeyboardInterrupt\u001b[39m                         Traceback (most recent call last)",
      "\u001b[36mCell\u001b[39m\u001b[36m \u001b[39m\u001b[32mIn[74]\u001b[39m\u001b[32m, line 42\u001b[39m\n\u001b[32m     40\u001b[39m \u001b[38;5;66;03m# Seleccionar checkbox\u001b[39;00m\n\u001b[32m     41\u001b[39m \u001b[38;5;28;01mtry\u001b[39;00m:\n\u001b[32m---> \u001b[39m\u001b[32m42\u001b[39m     checkbox = \u001b[43mWebDriverWait\u001b[49m\u001b[43m(\u001b[49m\u001b[43mdriver\u001b[49m\u001b[43m,\u001b[49m\u001b[43m \u001b[49m\u001b[32;43m15\u001b[39;49m\u001b[43m)\u001b[49m\u001b[43m.\u001b[49m\u001b[43muntil\u001b[49m\u001b[43m(\u001b[49m\n\u001b[32m     43\u001b[39m \u001b[43m        \u001b[49m\u001b[43mEC\u001b[49m\u001b[43m.\u001b[49m\u001b[43mpresence_of_element_located\u001b[49m\u001b[43m(\u001b[49m\u001b[43m(\u001b[49m\u001b[43mBy\u001b[49m\u001b[43m.\u001b[49m\u001b[43mXPATH\u001b[49m\u001b[43m,\u001b[49m\n\u001b[32m     44\u001b[39m \u001b[43m            \u001b[49m\u001b[33;43m'\u001b[39;49m\u001b[33;43m//*[@id=\u001b[39;49m\u001b[33;43m\"\u001b[39;49m\u001b[33;43mxplMainContent\u001b[39;49m\u001b[33;43m\"\u001b[39;49m\u001b[33;43m]/div[2]/div[2]/xpl-results-list/div[2]/label/input\u001b[39;49m\u001b[33;43m'\u001b[39;49m\u001b[43m)\u001b[49m\u001b[43m)\u001b[49m\n\u001b[32m     45\u001b[39m \u001b[43m    \u001b[49m\u001b[43m)\u001b[49m\n\u001b[32m     46\u001b[39m     \u001b[38;5;28;01mif\u001b[39;00m \u001b[38;5;129;01mnot\u001b[39;00m checkbox.is_selected():\n\u001b[32m     47\u001b[39m         driver.execute_script(\u001b[33m\"\u001b[39m\u001b[33marguments[0].click();\u001b[39m\u001b[33m\"\u001b[39m, checkbox)\n",
      "\u001b[36mFile \u001b[39m\u001b[32mc:\\Users\\camil\\AppData\\Local\\Programs\\Python\\Python313\\Lib\\site-packages\\selenium\\webdriver\\support\\wait.py:137\u001b[39m, in \u001b[36mWebDriverWait.until\u001b[39m\u001b[34m(self, method, message)\u001b[39m\n\u001b[32m    135\u001b[39m     \u001b[38;5;28;01mif\u001b[39;00m time.monotonic() > end_time:\n\u001b[32m    136\u001b[39m         \u001b[38;5;28;01mbreak\u001b[39;00m\n\u001b[32m--> \u001b[39m\u001b[32m137\u001b[39m     \u001b[43mtime\u001b[49m\u001b[43m.\u001b[49m\u001b[43msleep\u001b[49m\u001b[43m(\u001b[49m\u001b[38;5;28;43mself\u001b[39;49m\u001b[43m.\u001b[49m\u001b[43m_poll\u001b[49m\u001b[43m)\u001b[49m\n\u001b[32m    138\u001b[39m \u001b[38;5;28;01mraise\u001b[39;00m TimeoutException(message, screen, stacktrace)\n",
      "\u001b[31mKeyboardInterrupt\u001b[39m: "
     ]
    }
   ],
   "source": [
    "import os\n",
    "import time\n",
    "from selenium import webdriver\n",
    "from selenium.webdriver.common.by import By\n",
    "from selenium.webdriver.common.keys import Keys\n",
    "from selenium.webdriver.support.ui import WebDriverWait\n",
    "from selenium.webdriver.support import expected_conditions as EC\n",
    "from selenium.webdriver.common.action_chains import ActionChains\n",
    "\n",
    "# 📌 Función auxiliar para esperar descargas nuevas\n",
    "def esperar_descarga(download_path, archivos_antes, timeout=30):\n",
    "    \"\"\"\n",
    "    Espera a que aparezca un nuevo archivo .bib en la carpeta de descargas\n",
    "    que no esté en la lista anterior.\n",
    "    \"\"\"\n",
    "    end_time = time.time() + timeout\n",
    "    while time.time() < end_time:\n",
    "        archivos_actuales = set(f for f in os.listdir(download_path) if f.endswith(\".bib\"))\n",
    "        nuevos = archivos_actuales - archivos_antes\n",
    "        if nuevos:\n",
    "            nuevo_archivo = max([os.path.join(download_path, f) for f in nuevos],\n",
    "                              key=os.path.getctime)\n",
    "            return nuevo_archivo\n",
    "        time.sleep(1)\n",
    "    return None\n",
    "\n",
    "# 📌 Configura aquí tu carpeta de descargas\n",
    "download_path = os.getenv(\"DOWNLOAD_PATH\")\n",
    "\n",
    "# Inicializar el contador de páginas\n",
    "page_num = 1\n",
    "hay_mas_paginas = True\n",
    "\n",
    "# Bucle para navegar a través de todas las páginas\n",
    "while hay_mas_paginas:\n",
    "    print(f\"\\nProcesando página {page_num}...\")\n",
    "\n",
    "    time.sleep(2)  # pequeña espera entre páginas\n",
    "\n",
    "    # Seleccionar checkbox\n",
    "    try:\n",
    "        checkbox = WebDriverWait(driver, 15).until(\n",
    "            EC.presence_of_element_located((By.XPATH,\n",
    "                '//*[@id=\"xplMainContent\"]/div[2]/div[2]/xpl-results-list/div[2]/label/input'))\n",
    "        )\n",
    "        if not checkbox.is_selected():\n",
    "            driver.execute_script(\"arguments[0].click();\", checkbox)\n",
    "        time.sleep(1)\n",
    "    except Exception as e:\n",
    "        print(f\"⚠️ Error al seleccionar checkbox en página {page_num}: {e}\")\n",
    "        continue\n",
    "\n",
    "    # Botón Export\n",
    "    try:\n",
    "        enlace = WebDriverWait(driver, 15).until(\n",
    "            EC.element_to_be_clickable((By.XPATH,\n",
    "                \"//*[@id='xplMainContent']/div[1]/div[1]/ul/li[3]/xpl-export-search-results/button\"))\n",
    "        )\n",
    "        driver.execute_script(\"arguments[0].click();\", enlace)\n",
    "        time.sleep(2)\n",
    "    except Exception as e:\n",
    "        print(f\"⚠️ Error al hacer clic en export en página {page_num}: {e}\")\n",
    "        continue\n",
    "\n",
    "    # Opción Citations\n",
    "    try:\n",
    "        all_results = WebDriverWait(driver, 15).until(\n",
    "            EC.element_to_be_clickable((By.XPATH,\n",
    "                \"/html/body/ngb-modal-window/div/div/div[1]/ul/li[2]/a\"))\n",
    "        )\n",
    "        all_results.click()\n",
    "        time.sleep(2)\n",
    "    except Exception as e:\n",
    "        print(f\"⚠️ Error al seleccionar Citations en página {page_num}: {e}\")\n",
    "        continue\n",
    "\n",
    "    # Seleccionar BibTeX\n",
    "    try:\n",
    "        bibtex_link = WebDriverWait(driver, 15).until(\n",
    "            EC.element_to_be_clickable((By.XPATH,\n",
    "                \"/html/body/ngb-modal-window/div/div/div[2]/div/xpl-citation-download/form/div[1]/section[1]/div/label[2]/input\"))\n",
    "        )\n",
    "        bibtex_link.click()\n",
    "        time.sleep(1)\n",
    "    except Exception as e:\n",
    "        print(f\"⚠️ Error al seleccionar BibTeX en página {page_num}: {e}\")\n",
    "        continue\n",
    "\n",
    "    # Citation + Abstract\n",
    "    try:\n",
    "        citAndAbstract_link = WebDriverWait(driver, 15).until(\n",
    "            EC.element_to_be_clickable((By.XPATH,\n",
    "                \"/html/body/ngb-modal-window/div/div/div[2]/div/xpl-citation-download/form/div[1]/section[2]/div/label[2]/input\"))\n",
    "        )\n",
    "        citAndAbstract_link.click()\n",
    "        time.sleep(1)\n",
    "    except Exception as e:\n",
    "        print(f\"⚠️ Error al seleccionar Citation and Abstract en página {page_num}: {e}\")\n",
    "        continue\n",
    "\n",
    "    # Guardar estado de descargas antes de bajar\n",
    "    archivos_antes = set([f for f in os.listdir(download_path) if f.endswith(\".bib\")])\n",
    "\n",
    "    # Botón descargar\n",
    "    try:\n",
    "        download_button = WebDriverWait(driver, 15).until(\n",
    "            EC.element_to_be_clickable((By.XPATH,\n",
    "                \"/html/body/ngb-modal-window/div/div/div[2]/div/xpl-citation-download/form/div[2]/button[2]\"))\n",
    "        )\n",
    "        download_button.click()\n",
    "        print(f\"⬇️ Intentando descarga para página {page_num}...\")\n",
    "\n",
    "        nuevo_archivo = esperar_descarga(download_path, archivos_antes, timeout=50)\n",
    "        if nuevo_archivo:\n",
    "            nuevo_nombre = f\"ieee_generative_ai_page_{page_num}.bib\"\n",
    "            ruta_nueva = os.path.join(download_path, nuevo_nombre)\n",
    "            os.rename(nuevo_archivo, ruta_nueva)\n",
    "            print(f\"✅ Archivo guardado como: {nuevo_nombre}\")\n",
    "        else:\n",
    "            print(f\"❌ No se detectó descarga en página {page_num}\")\n",
    "\n",
    "    except Exception as e:\n",
    "        print(f\"⚠️ Error en el proceso de descarga en página {page_num}: {e}\")\n",
    "\n",
    "    # Cerrar modal\n",
    "    try:\n",
    "        cerrarVentana_link = WebDriverWait(driver, 10).until(\n",
    "            EC.element_to_be_clickable((By.XPATH,\n",
    "                \"/html/body/ngb-modal-window/div/div/div[1]/div/i\"))\n",
    "        )\n",
    "        cerrarVentana_link.click()\n",
    "    except:\n",
    "        ActionChains(driver).send_keys(Keys.ESCAPE).perform()\n",
    "\n",
    "    # Verificar si hay más páginas\n",
    "    try:\n",
    "        # Intentar encontrar el botón de siguiente página\n",
    "        siguiente_btn = WebDriverWait(driver, 10).until(\n",
    "            EC.element_to_be_clickable((By.CSS_SELECTOR, \n",
    "                'button[class^=\"stats-Pagination_arrow_next_\"], '  # Botón de siguiente\n",
    "                'button[aria-label=\"Next page of search results\"], '  # Alternativa 1\n",
    "                'button.next, '  # Alternativa 2\n",
    "                'a.next, '  # Alternativa 3\n",
    "                'li.next-btn button'  # Alternativa 4\n",
    "            ))\n",
    "        )\n",
    "        \n",
    "        # Hacer clic en el botón de siguiente página\n",
    "        driver.execute_script(\"arguments[0].click();\", siguiente_btn)\n",
    "        page_num += 1\n",
    "        print(f\"➡️ Avanzando a la página {page_num}...\")\n",
    "        time.sleep(4)  # Esperar a que cargue la nueva página\n",
    "        \n",
    "    except Exception as e:\n",
    "        print(\"No se pudo encontrar el botón de siguiente página.\")\n",
    "        print(f\"Error: {str(e)}\")\n",
    "        hay_mas_paginas = False\n",
    "\n",
    "print(f\"\\n🎉 ¡Proceso completado! Se han procesado {page_num} páginas en total.\")"
   ]
  },
  {
   "cell_type": "code",
   "execution_count": null,
   "id": "0d53a66a",
   "metadata": {},
   "outputs": [],
   "source": [
    "driver.quit()"
   ]
  }
 ],
 "metadata": {
  "kernelspec": {
   "display_name": "Python 3",
   "language": "python",
   "name": "python3"
  },
  "language_info": {
   "codemirror_mode": {
    "name": "ipython",
    "version": 3
   },
   "file_extension": ".py",
   "mimetype": "text/x-python",
   "name": "python",
   "nbconvert_exporter": "python",
   "pygments_lexer": "ipython3",
   "version": "3.13.6"
  }
 },
 "nbformat": 4,
 "nbformat_minor": 5
}
