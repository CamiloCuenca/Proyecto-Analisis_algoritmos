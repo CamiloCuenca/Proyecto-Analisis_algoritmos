{
 "cells": [
  {
   "cell_type": "code",
   "execution_count": 19,
   "id": "9c3ac4f0",
   "metadata": {},
   "outputs": [],
   "source": [
    "#imports requeridos para que el proyecto funcione\n",
    "import pandas as pd\n",
    "from selenium import webdriver\n",
    "from selenium.webdriver.common.by import By\n",
    "from selenium.webdriver.common.keys import Keys\n",
    "from selenium.webdriver.common.action_chains import ActionChains\n",
    "from selenium.webdriver.support.ui import WebDriverWait\n",
    "from selenium.webdriver.support import expected_conditions as EC\n",
    "from selenium.webdriver.chrome.service import Service\n",
    "import time\n",
    "import os\n",
    "\n",
    "import os\n",
    "from dotenv import load_dotenv\n",
    "\n",
    "# Cargar variables del archivo .env\n",
    "load_dotenv()\n",
    "\n",
    "\n",
    "# Obtener el correo electrónico\n",
    "email = os.getenv(\"EMAIL\")\n",
    "# Obtener la contraseña\n",
    "password = os.getenv(\"PASSWORD\")\n",
    "\n"
   ]
  },
  {
   "cell_type": "code",
   "execution_count": 20,
   "id": "2a16eb88",
   "metadata": {},
   "outputs": [],
   "source": [
    "# Configurar la ruta de descarga (usando una ruta absoluta)\n",
    "download_path = os.getenv(\"DOWNLOAD_PATH\")  # Cambia esto a tu ruta real\n",
    "os.makedirs(download_path, exist_ok=True)  # Crear la carpeta si no existe\n",
    "\n",
    "chrome_options = webdriver.ChromeOptions()\n",
    "\n",
    "\n",
    "# Configuración de preferencias de descargas\n",
    "prefs = {\n",
    "    \"download.default_directory\": download_path,\n",
    "    \"download.prompt_for_download\": False,\n",
    "    \"download.directory_upgrade\": True,\n",
    "    \"safebrowsing.enabled\": False,  # Desactivar SafeBrowsing puede ayudar\n",
    "    \"profile.default_content_settings.popups\": 0,\n",
    "    \"profile.content_settings.exceptions.automatic_downloads.*.setting\": 1\n",
    "}\n",
    "chrome_options.add_experimental_option(\"prefs\", prefs)\n",
    "\n",
    "# Argumentos adicionales que pueden ayudar\n",
    "chrome_options.add_argument(\"--disable-extensions\")\n",
    "chrome_options.add_argument(\"--disable-download-notification\")\n",
    "chrome_options.add_argument(\"--disable-popup-blocking\")\n",
    "\n"
   ]
  },
  {
   "cell_type": "code",
   "execution_count": 21,
   "id": "1476d666",
   "metadata": {},
   "outputs": [],
   "source": [
    "# Iniciar el navegador\n",
    "driver = webdriver.Chrome(options=chrome_options)\n",
    "\n",
    "# Abrir la URL\n",
    "url1 = 'https://login.intelproxy.com/v2/inicio?cuenta=7Ah6RNpGWF22jjyq'\n",
    "driver.get(url1)"
   ]
  },
  {
   "cell_type": "code",
   "execution_count": 22,
   "id": "d1891bd2",
   "metadata": {},
   "outputs": [],
   "source": [
    "time.sleep(5)"
   ]
  },
  {
   "cell_type": "code",
   "execution_count": 23,
   "id": "e11aaa61",
   "metadata": {},
   "outputs": [],
   "source": [
    "login_button2 = WebDriverWait(driver, 20).until(\n",
    "        EC.element_to_be_clickable((By.XPATH, \"/html/body/div/div/div/div[1]/div[2]/a\")))\n",
    "login_button2.click()"
   ]
  },
  {
   "cell_type": "code",
   "execution_count": 24,
   "id": "4870d4b2",
   "metadata": {},
   "outputs": [],
   "source": [
    "time.sleep(3)"
   ]
  },
  {
   "cell_type": "code",
   "execution_count": 25,
   "id": "eed1a7f0",
   "metadata": {},
   "outputs": [],
   "source": [
    "email_input = WebDriverWait(driver, 10).until(\n",
    "    EC.element_to_be_clickable((By.ID, \"identifierId\"))\n",
    ")\n",
    "\n",
    "email_input.send_keys(email)\n",
    "email_input.send_keys(Keys.RETURN)"
   ]
  },
  {
   "cell_type": "code",
   "execution_count": 26,
   "id": "624c2e92",
   "metadata": {},
   "outputs": [],
   "source": [
    "time.sleep(3)"
   ]
  },
  {
   "cell_type": "code",
   "execution_count": 27,
   "id": "c34a8266",
   "metadata": {},
   "outputs": [],
   "source": [
    "password_input = WebDriverWait(driver, 20).until(\n",
    "    EC.element_to_be_clickable((By.NAME, \"Passwd\"))\n",
    ")# Nombre del campo de contraseña\n",
    "password_input.send_keys(password)\n",
    "password_input.send_keys(Keys.RETURN)"
   ]
  },
  {
   "cell_type": "code",
   "execution_count": 28,
   "id": "a8839725",
   "metadata": {},
   "outputs": [],
   "source": [
    "from selenium.webdriver.common.by import By\n",
    "from selenium.webdriver.support.ui import WebDriverWait\n",
    "from selenium.webdriver.support import expected_conditions as EC\n",
    "import time\n",
    "\n",
    "# Buscar el botón <summary> que contiene \"Fac. Ingeniería\"\n",
    "boton = WebDriverWait(driver, 20).until(\n",
    "    EC.element_to_be_clickable((By.XPATH, \"//summary[contains(., 'Fac. Ingeniería')]\"))\n",
    ")\n",
    "\n",
    "time.sleep(2)\n",
    "boton.click()"
   ]
  },
  {
   "cell_type": "code",
   "execution_count": 29,
   "id": "3a5bf3ca",
   "metadata": {},
   "outputs": [],
   "source": [
    "# Si el artículo está dentro de un <details> cerrado, expándelo primero\n",
    "summary = driver.find_element(By.XPATH, \"//summary[contains(., 'Fac. Ciencias Agroindustriales')]\")\n",
    "driver.execute_script(\"arguments[0].scrollIntoView();\", summary)\n",
    "summary.click()\n",
    "time.sleep(1)\n",
    "\n",
    "# Ahora busca el enlace\n",
    "enlaceSage = WebDriverWait(driver, 15).until(\n",
    "    EC.element_to_be_clickable((By.XPATH, \"//article[@id='facingenierataylorfrancisdescubridor']//h2[@class='result-title']/a\"))\n",
    ")\n",
    "enlaceSage.click()"
   ]
  },
  {
   "cell_type": "code",
   "execution_count": 30,
   "id": "a1cd7fd0",
   "metadata": {},
   "outputs": [
    {
     "name": "stdout",
     "output_type": "stream",
     "text": [
      "⚠ No apareció la ventana de cookies o ya estaba cerrada.\n"
     ]
    }
   ],
   "source": [
    "try:\n",
    "    # Esperar a que aparezca el botón de aceptar/cerrar cookies\n",
    "    boton_cookiesSage = WebDriverWait(driver, 20).until(\n",
    "        EC.element_to_be_clickable((By.ID, \"onetrust-accept-btn-handler\"))  # Usa el XPath correcto\n",
    "    )\n",
    "    boton_cookiesSage.click()\n",
    "    print(\"Se cerró la ventana de cookies.\")\n",
    "except:\n",
    "    print(\"⚠ No apareció la ventana de cookies o ya estaba cerrada.\")"
   ]
  },
  {
   "cell_type": "code",
   "execution_count": 31,
   "id": "99a0d0bf",
   "metadata": {},
   "outputs": [],
   "source": [
    "# Buscar el input de búsqueda por su clase\n",
    "barra_busquedaSage = WebDriverWait(driver, 15).until(\n",
    "    EC.presence_of_element_located((By.ID, \"searchText-1d85a42e-ad57-4c0d-a477-c847718bcb5d\"))\n",
    ")\n"
   ]
  },
  {
   "cell_type": "code",
   "execution_count": 32,
   "id": "f4598ac8",
   "metadata": {},
   "outputs": [],
   "source": [
    "# Escribir \"generative artificial intelligence\"\n",
    "barra_busquedaSage.send_keys('generative artificial intelligence')"
   ]
  },
  {
   "cell_type": "code",
   "execution_count": 33,
   "id": "35678287",
   "metadata": {},
   "outputs": [],
   "source": [
    "barra_busquedaSage.send_keys(Keys.RETURN)"
   ]
  },
  {
   "cell_type": "code",
   "execution_count": 34,
   "id": "94408faa",
   "metadata": {},
   "outputs": [
    {
     "name": "stdout",
     "output_type": "stream",
     "text": [
      "⚠ No apareció la ventana de cookies o ya estaba cerrada.\n"
     ]
    }
   ],
   "source": [
    "try:\n",
    "    # Esperar a que aparezca el botón de aceptar/cerrar cookies\n",
    "    boton_cookiesSage = WebDriverWait(driver, 20).until(\n",
    "        EC.element_to_be_clickable((By.ID, \"onetrust-accept-btn-handler\"))  # Usa el XPath correcto\n",
    "    )\n",
    "    boton_cookiesSage.click()\n",
    "    print(\"Se cerró la ventana de cookies.\")\n",
    "except:\n",
    "    print(\"⚠ No apareció la ventana de cookies o ya estaba cerrada.\")"
   ]
  },
  {
   "cell_type": "code",
   "execution_count": null,
   "id": "f8b86e2a",
   "metadata": {},
   "outputs": [],
   "source": []
  },
  {
   "cell_type": "code",
   "execution_count": 35,
   "id": "fe49e99f",
   "metadata": {},
   "outputs": [
    {
     "name": "stdout",
     "output_type": "stream",
     "text": [
      "\n",
      "📄 Procesando página 1...\n",
      "✅ Todos los resultados seleccionados en la página\n",
      "⬇️ Descargando citas en BibTeX...\n",
      "✅ Guardado como taylor_page1.bib\n",
      "\n",
      "📄 Procesando página 2...\n",
      "✅ Todos los resultados seleccionados en la página\n",
      "⬇️ Descargando citas en BibTeX...\n",
      "✅ Guardado como taylor_page2.bib\n",
      "\n",
      "📄 Procesando página 3...\n",
      "✅ Todos los resultados seleccionados en la página\n",
      "⬇️ Descargando citas en BibTeX...\n",
      "✅ Guardado como taylor_page3.bib\n",
      "\n",
      "📄 Procesando página 4...\n",
      "✅ Todos los resultados seleccionados en la página\n",
      "⬇️ Descargando citas en BibTeX...\n",
      "✅ Guardado como taylor_page4.bib\n",
      "\n",
      "📄 Procesando página 5...\n",
      "✅ Todos los resultados seleccionados en la página\n",
      "⬇️ Descargando citas en BibTeX...\n",
      "✅ Guardado como taylor_page5.bib\n",
      "\n",
      "📄 Procesando página 6...\n",
      "✅ Todos los resultados seleccionados en la página\n",
      "⬇️ Descargando citas en BibTeX...\n",
      "✅ Guardado como taylor_page6.bib\n",
      "\n",
      "📄 Procesando página 7...\n",
      "✅ Todos los resultados seleccionados en la página\n",
      "⬇️ Descargando citas en BibTeX...\n",
      "✅ Guardado como taylor_page7.bib\n",
      "\n",
      "📄 Procesando página 8...\n",
      "✅ Todos los resultados seleccionados en la página\n",
      "⬇️ Descargando citas en BibTeX...\n",
      "✅ Guardado como taylor_page8.bib\n",
      "\n",
      "📄 Procesando página 9...\n",
      "✅ Todos los resultados seleccionados en la página\n",
      "⬇️ Descargando citas en BibTeX...\n",
      "✅ Guardado como taylor_page9.bib\n",
      "\n",
      "📄 Procesando página 10...\n",
      "✅ Todos los resultados seleccionados en la página\n",
      "⬇️ Descargando citas en BibTeX...\n",
      "✅ Guardado como taylor_page10.bib\n",
      "\n",
      "📄 Procesando página 11...\n",
      "✅ Todos los resultados seleccionados en la página\n",
      "⬇️ Descargando citas en BibTeX...\n",
      "✅ Guardado como taylor_page11.bib\n",
      "\n",
      "📄 Procesando página 12...\n",
      "✅ Todos los resultados seleccionados en la página\n",
      "⬇️ Descargando citas en BibTeX...\n",
      "✅ Guardado como taylor_page12.bib\n",
      "\n",
      "📄 Procesando página 13...\n",
      "✅ Todos los resultados seleccionados en la página\n",
      "⬇️ Descargando citas en BibTeX...\n",
      "✅ Guardado como taylor_page13.bib\n",
      "\n",
      "📄 Procesando página 14...\n",
      "✅ Todos los resultados seleccionados en la página\n",
      "⬇️ Descargando citas en BibTeX...\n",
      "✅ Guardado como taylor_page14.bib\n",
      "\n",
      "📄 Procesando página 15...\n",
      "✅ Todos los resultados seleccionados en la página\n",
      "⬇️ Descargando citas en BibTeX...\n",
      "✅ Guardado como taylor_page15.bib\n",
      "\n",
      "🎉 Descarga completada (máximo 15 páginas).\n"
     ]
    }
   ],
   "source": [
    "import os, time\n",
    "from selenium.webdriver.common.by import By\n",
    "from selenium.webdriver.support.ui import WebDriverWait\n",
    "from selenium.webdriver.support import expected_conditions as EC\n",
    "from selenium.common.exceptions import TimeoutException\n",
    "\n",
    "# 🔧 carpeta de descargas (ajusta según tu setup)\n",
    "download_path = os.getenv(\"DOWNLOAD_PATH\")\n",
    "\n",
    "def esperar_descarga(download_dir, timeout=30):\n",
    "    \"\"\"Espera a que aparezca un archivo .bib en la carpeta de descargas\"\"\"\n",
    "    end_time = time.time() + timeout\n",
    "    while time.time() < end_time:\n",
    "        files = [f for f in os.listdir(download_dir) if f.endswith(\".bib\")]\n",
    "        if files:\n",
    "            full_paths = [os.path.join(download_dir, f) for f in files]\n",
    "            return max(full_paths, key=os.path.getctime)\n",
    "        time.sleep(1)\n",
    "    return None\n",
    "\n",
    "\n",
    "# -------------------------------\n",
    "# 🔄 Recorrer solo 15 páginas\n",
    "# -------------------------------\n",
    "page_num = 1\n",
    "while page_num <= 15:  # 👈 límite de 15 páginas\n",
    "    print(f\"\\n📄 Procesando página {page_num}...\")\n",
    "\n",
    "    try:\n",
    "        # 1. Esperar carga completa\n",
    "        WebDriverWait(driver, 10).until(\n",
    "            lambda d: d.execute_script(\"return document.readyState\") == \"complete\"\n",
    "        )\n",
    "\n",
    "        # 2. Marcar \"Select all\"\n",
    "        try:\n",
    "            check_all = WebDriverWait(driver, 10).until(\n",
    "                EC.element_to_be_clickable((By.CSS_SELECTOR, \"input[id^='markall_']\"))\n",
    "            )\n",
    "            driver.execute_script(\"arguments[0].click();\", check_all)\n",
    "            time.sleep(1)\n",
    "\n",
    "            # 🔎 Verificar si quedó marcado, si no, volver a hacer click\n",
    "            if not check_all.is_selected():\n",
    "                driver.execute_script(\"arguments[0].click();\", check_all)\n",
    "\n",
    "            print(\"✅ Todos los resultados seleccionados en la página\")\n",
    "        except TimeoutException:\n",
    "            raise Exception(\"No encontré el checkbox 'Select all' en esta página\")\n",
    "\n",
    "        # 3. Abrir modal \"Download citations\"\n",
    "        dl_btn = WebDriverWait(driver, 10).until(\n",
    "            EC.element_to_be_clickable((By.CSS_SELECTOR, \"a.download-citations\"))\n",
    "        )\n",
    "        driver.execute_script(\"arguments[0].click();\", dl_btn)\n",
    "\n",
    "        # 4. Seleccionar BibTeX\n",
    "        bibtex_radio = WebDriverWait(driver, 10).until(\n",
    "            EC.element_to_be_clickable((By.ID, \"format-bibtex\"))\n",
    "        )\n",
    "        driver.execute_script(\"arguments[0].click();\", bibtex_radio)\n",
    "\n",
    "        # 5. Confirmar descarga\n",
    "        dl_confirm = WebDriverWait(driver, 10).until(\n",
    "            EC.element_to_be_clickable((By.ID, \"btn-download-citations\"))\n",
    "        )\n",
    "        driver.execute_script(\"arguments[0].click();\", dl_confirm)\n",
    "        print(\"⬇️ Descargando citas en BibTeX...\")\n",
    "\n",
    "        # 6. Renombrar archivo descargado\n",
    "        archivo = esperar_descarga(download_path, 30)\n",
    "        if archivo:\n",
    "            nuevo_nombre = f\"taylor_page{page_num}.bib\"\n",
    "            os.rename(archivo, os.path.join(download_path, nuevo_nombre))\n",
    "            print(f\"✅ Guardado como {nuevo_nombre}\")\n",
    "        else:\n",
    "            print(\"❌ No se detectó descarga .bib\")\n",
    "\n",
    "        # 7. Ir a la siguiente página si existe\n",
    "        if page_num < 15:  # 👈 solo intentar ir a la siguiente si aún no llegamos a la 15\n",
    "            try:\n",
    "                next_link = WebDriverWait(driver, 5).until(\n",
    "                    EC.element_to_be_clickable((By.CSS_SELECTOR, \"a.nextPage\"))\n",
    "                )\n",
    "                driver.execute_script(\"arguments[0].click();\", next_link)\n",
    "\n",
    "                # esperar que aparezca el checkbox de la nueva página\n",
    "                WebDriverWait(driver, 10).until(\n",
    "                    EC.presence_of_element_located((By.CSS_SELECTOR, \"input[id^='markall_']\"))\n",
    "                )\n",
    "                time.sleep(2)\n",
    "\n",
    "                page_num += 1\n",
    "            except TimeoutException:\n",
    "                print(\"ℹ️ No hay más páginas, fin del recorrido.\")\n",
    "                break\n",
    "        else:\n",
    "            break\n",
    "\n",
    "    except Exception as e:\n",
    "        print(f\"⚠️ Error en la página {page_num}: {e}\")\n",
    "        break\n",
    "\n",
    "print(\"\\n🎉 Descarga completada (máximo 15 páginas).\")\n"
   ]
  }
 ],
 "metadata": {
  "kernelspec": {
   "display_name": "Python 3",
   "language": "python",
   "name": "python3"
  },
  "language_info": {
   "codemirror_mode": {
    "name": "ipython",
    "version": 3
   },
   "file_extension": ".py",
   "mimetype": "text/x-python",
   "name": "python",
   "nbconvert_exporter": "python",
   "pygments_lexer": "ipython3",
   "version": "3.11.9"
  }
 },
 "nbformat": 4,
 "nbformat_minor": 5
}
