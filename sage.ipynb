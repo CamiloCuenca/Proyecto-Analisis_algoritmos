{
 "cells": [
  {
   "cell_type": "code",
   "execution_count": 1,
   "id": "9c3ac4f0",
   "metadata": {},
   "outputs": [],
   "source": [
    "#imports requeridos para que el proyecto funcione\n",
    "import pandas as pd\n",
    "from selenium import webdriver\n",
    "from selenium.webdriver.common.by import By\n",
    "from selenium.webdriver.common.keys import Keys\n",
    "from selenium.webdriver.common.action_chains import ActionChains\n",
    "from selenium.webdriver.support.ui import WebDriverWait\n",
    "from selenium.webdriver.support import expected_conditions as EC\n",
    "from selenium.webdriver.chrome.service import Service\n",
    "import time\n",
    "import os\n",
    "\n",
    "import os\n",
    "from dotenv import load_dotenv\n",
    "\n",
    "# Cargar variables del archivo .env\n",
    "load_dotenv()\n",
    "\n",
    "\n",
    "# Obtener el correo electrónico\n",
    "email = os.getenv(\"EMAIL\")\n",
    "# Obtener la contraseña\n",
    "password = os.getenv(\"PASSWORD\")\n",
    "\n"
   ]
  },
  {
   "cell_type": "code",
   "execution_count": 2,
   "id": "2a16eb88",
   "metadata": {},
   "outputs": [],
   "source": [
    "# Configurar la ruta de descarga (usando una ruta absoluta)\n",
    "download_path = os.getenv(\"DOWNLOAD_PATH\")  # Cambia esto a tu ruta real\n",
    "os.makedirs(download_path, exist_ok=True)  # Crear la carpeta si no existe\n",
    "\n",
    "chrome_options = webdriver.ChromeOptions()\n",
    "\n",
    "\n",
    "# Configuración de preferencias de descargas\n",
    "prefs = {\n",
    "    \"download.default_directory\": download_path,\n",
    "    \"download.prompt_for_download\": False,\n",
    "    \"download.directory_upgrade\": True,\n",
    "    \"safebrowsing.enabled\": False,  # Desactivar SafeBrowsing puede ayudar\n",
    "    \"profile.default_content_settings.popups\": 0,\n",
    "    \"profile.content_settings.exceptions.automatic_downloads.*.setting\": 1\n",
    "}\n",
    "chrome_options.add_experimental_option(\"prefs\", prefs)\n",
    "\n",
    "# Argumentos adicionales que pueden ayudar\n",
    "chrome_options.add_argument(\"--disable-extensions\")\n",
    "chrome_options.add_argument(\"--disable-download-notification\")\n",
    "chrome_options.add_argument(\"--disable-popup-blocking\")\n",
    "\n"
   ]
  },
  {
   "cell_type": "code",
   "execution_count": 3,
   "id": "1476d666",
   "metadata": {},
   "outputs": [],
   "source": [
    "# Iniciar el navegador\n",
    "driver = webdriver.Chrome(options=chrome_options)\n",
    "\n",
    "# Abrir la URL\n",
    "url1 = 'https://login.intelproxy.com/v2/inicio?cuenta=7Ah6RNpGWF22jjyq'\n",
    "driver.get(url1)"
   ]
  },
  {
   "cell_type": "code",
   "execution_count": 4,
   "id": "d1891bd2",
   "metadata": {},
   "outputs": [],
   "source": [
    "time.sleep(5)"
   ]
  },
  {
   "cell_type": "code",
   "execution_count": 5,
   "id": "e11aaa61",
   "metadata": {},
   "outputs": [],
   "source": [
    "login_button2 = WebDriverWait(driver, 20).until(\n",
    "        EC.element_to_be_clickable((By.XPATH, \"/html/body/div/div/div/div[1]/div[2]/a\")))\n",
    "login_button2.click()"
   ]
  },
  {
   "cell_type": "code",
   "execution_count": 6,
   "id": "4870d4b2",
   "metadata": {},
   "outputs": [],
   "source": [
    "time.sleep(3)"
   ]
  },
  {
   "cell_type": "code",
   "execution_count": 7,
   "id": "eed1a7f0",
   "metadata": {},
   "outputs": [],
   "source": [
    "email_input = WebDriverWait(driver, 10).until(\n",
    "    EC.element_to_be_clickable((By.ID, \"identifierId\"))\n",
    ")\n",
    "\n",
    "email_input.send_keys(email)\n",
    "email_input.send_keys(Keys.RETURN)"
   ]
  },
  {
   "cell_type": "code",
   "execution_count": 8,
   "id": "624c2e92",
   "metadata": {},
   "outputs": [],
   "source": [
    "time.sleep(3)"
   ]
  },
  {
   "cell_type": "code",
   "execution_count": 9,
   "id": "c34a8266",
   "metadata": {},
   "outputs": [],
   "source": [
    "password_input = WebDriverWait(driver, 20).until(\n",
    "    EC.element_to_be_clickable((By.NAME, \"Passwd\"))\n",
    ")# Nombre del campo de contraseña\n",
    "password_input.send_keys(password)\n",
    "password_input.send_keys(Keys.RETURN)"
   ]
  },
  {
   "cell_type": "code",
   "execution_count": 10,
   "id": "a8839725",
   "metadata": {},
   "outputs": [],
   "source": [
    "from selenium.webdriver.common.by import By\n",
    "from selenium.webdriver.support.ui import WebDriverWait\n",
    "from selenium.webdriver.support import expected_conditions as EC\n",
    "import time\n",
    "\n",
    "# Buscar el botón <summary> que contiene \"Fac. Ingeniería\"\n",
    "boton = WebDriverWait(driver, 20).until(\n",
    "    EC.element_to_be_clickable((By.XPATH, \"//summary[contains(., 'Fac. Ingeniería')]\"))\n",
    ")\n",
    "\n",
    "time.sleep(2)\n",
    "boton.click()"
   ]
  },
  {
   "cell_type": "code",
   "execution_count": 11,
   "id": "3a5bf3ca",
   "metadata": {},
   "outputs": [],
   "source": [
    "# Si el artículo está dentro de un <details> cerrado, expándelo primero\n",
    "summary = driver.find_element(By.XPATH, \"//summary[contains(., 'Fac. Ciencias Agroindustriales')]\")\n",
    "driver.execute_script(\"arguments[0].scrollIntoView();\", summary)\n",
    "summary.click()\n",
    "time.sleep(1)\n",
    "\n",
    "# Ahora busca el enlace\n",
    "enlaceSage = WebDriverWait(driver, 15).until(\n",
    "    EC.element_to_be_clickable((By.XPATH, \"//article[@id='faccienciasagroindustrialessagelibros']//h2[@class='result-title']/a\"))\n",
    ")\n",
    "enlaceSage.click()"
   ]
  },
  {
   "cell_type": "code",
   "execution_count": 12,
   "id": "a1cd7fd0",
   "metadata": {},
   "outputs": [
    {
     "name": "stdout",
     "output_type": "stream",
     "text": [
      "Se cerró la ventana de cookies.\n"
     ]
    }
   ],
   "source": [
    "try:\n",
    "    # Esperar a que aparezca el botón de aceptar/cerrar cookies\n",
    "    boton_cookiesSage = WebDriverWait(driver, 20).until(\n",
    "        EC.element_to_be_clickable((By.ID, \"onetrust-accept-btn-handler\"))  # Usa el XPath correcto\n",
    "    )\n",
    "    boton_cookiesSage.click()\n",
    "    print(\"Se cerró la ventana de cookies.\")\n",
    "except:\n",
    "    print(\"⚠ No apareció la ventana de cookies o ya estaba cerrada.\")"
   ]
  },
  {
   "cell_type": "code",
   "execution_count": 13,
   "id": "99a0d0bf",
   "metadata": {},
   "outputs": [],
   "source": [
    "# Buscar el input de búsqueda por su clase\n",
    "barra_busquedaSage = WebDriverWait(driver, 15).until(\n",
    "    EC.presence_of_element_located((By.CSS_SELECTOR, \"input.sage-autocomplete-input\"))\n",
    ")"
   ]
  },
  {
   "cell_type": "code",
   "execution_count": 14,
   "id": "f4598ac8",
   "metadata": {},
   "outputs": [],
   "source": [
    "# Escribir \"generative artificial intelligence\"\n",
    "barra_busquedaSage.send_keys('generative artificial intelligence')"
   ]
  },
  {
   "cell_type": "code",
   "execution_count": 15,
   "id": "35678287",
   "metadata": {},
   "outputs": [],
   "source": [
    "# Buscar el botón de búsqueda por su clase\n",
    "boton_buscarSage = WebDriverWait(driver, 10).until(\n",
    "    EC.element_to_be_clickable((By.CSS_SELECTOR, \"button.sage-search-autocomplete__icon\"))\n",
    ")"
   ]
  },
  {
   "cell_type": "code",
   "execution_count": 16,
   "id": "5062c3bb",
   "metadata": {},
   "outputs": [],
   "source": [
    "boton_buscarSage.click()"
   ]
  },
  {
   "cell_type": "code",
   "execution_count": 17,
   "id": "94408faa",
   "metadata": {},
   "outputs": [
    {
     "name": "stdout",
     "output_type": "stream",
     "text": [
      "⚠ No apareció la ventana de cookies o ya estaba cerrada.\n"
     ]
    }
   ],
   "source": [
    "try:\n",
    "    # Esperar a que aparezca el botón de aceptar/cerrar cookies\n",
    "    boton_cookiesSage = WebDriverWait(driver, 20).until(\n",
    "        EC.element_to_be_clickable((By.ID, \"onetrust-accept-btn-handler\"))  # Usa el XPath correcto\n",
    "    )\n",
    "    boton_cookiesSage.click()\n",
    "    print(\"Se cerró la ventana de cookies.\")\n",
    "except:\n",
    "    print(\"⚠ No apareció la ventana de cookies o ya estaba cerrada.\")"
   ]
  },
  {
   "cell_type": "code",
   "execution_count": 18,
   "id": "f8b86e2a",
   "metadata": {},
   "outputs": [
    {
     "name": "stdout",
     "output_type": "stream",
     "text": [
      "✅ Filtros aplicados: All content + Article + Book\n"
     ]
    }
   ],
   "source": [
    "from selenium.webdriver.common.by import By\n",
    "from selenium.webdriver.support.ui import WebDriverWait\n",
    "from selenium.webdriver.support import expected_conditions as EC\n",
    "import time\n",
    "\n",
    "# === FILTROS EN SAGE ===\n",
    "\n",
    "# 0. Asegurarse que está seleccionado \"All content\" (radio button)\n",
    "all_content_radio = WebDriverWait(driver, 15).until(\n",
    "    EC.element_to_be_clickable((By.XPATH, \"//input[@type='radio' and @value='all']\"))\n",
    ")\n",
    "if not all_content_radio.is_selected():\n",
    "    driver.execute_script(\"arguments[0].click();\", all_content_radio)\n",
    "time.sleep(2)\n",
    "\n",
    "# 1. Expandir \"Content types\" (si está colapsado)\n",
    "content_types_button = WebDriverWait(driver, 15).until(\n",
    "    EC.element_to_be_clickable((By.XPATH, \"//button[.//label[contains(text(),'Content types')]]\"))\n",
    ")\n",
    "driver.execute_script(\"arguments[0].click();\", content_types_button)\n",
    "time.sleep(2)\n",
    "\n",
    "# 2. Desmarcar \"All Content Types\" (si está activo)\n",
    "all_content_checkbox = WebDriverWait(driver, 15).until(\n",
    "    EC.element_to_be_clickable((By.XPATH, \"//div[@role='checkbox' and @aria-label='All Content Types']\"))\n",
    ")\n",
    "aria_checked = all_content_checkbox.get_attribute(\"aria-checked\")\n",
    "if aria_checked == \"true\":\n",
    "    driver.execute_script(\"arguments[0].click();\", all_content_checkbox)\n",
    "    time.sleep(1)\n",
    "\n",
    "# 3. Seleccionar \"Article\"\n",
    "article_checkbox = WebDriverWait(driver, 15).until(\n",
    "    EC.element_to_be_clickable((By.XPATH, \"//div[@role='checkbox' and @aria-label='Article']\"))\n",
    ")\n",
    "aria_checked = article_checkbox.get_attribute(\"aria-checked\")\n",
    "if aria_checked == \"false\":\n",
    "    driver.execute_script(\"arguments[0].click();\", article_checkbox)\n",
    "    time.sleep(1)\n",
    "\n",
    "# 4. Seleccionar \"Book\"\n",
    "book_checkbox = WebDriverWait(driver, 15).until(\n",
    "    EC.element_to_be_clickable((By.XPATH, \"//div[@role='checkbox' and @aria-label='Book']\"))\n",
    ")\n",
    "aria_checked = book_checkbox.get_attribute(\"aria-checked\")\n",
    "if aria_checked == \"false\":\n",
    "    driver.execute_script(\"arguments[0].click();\", book_checkbox)\n",
    "    time.sleep(1)\n",
    "\n",
    "# 5. Aplicar filtros\n",
    "apply_button = WebDriverWait(driver, 15).until(\n",
    "    EC.element_to_be_clickable((By.XPATH, \"//button[contains(., 'Apply filter')]\"))\n",
    ")\n",
    "apply_button.click()\n",
    "time.sleep(3)\n",
    "\n",
    "print(\"✅ Filtros aplicados: All content + Article + Book\")\n",
    "\n",
    "\n"
   ]
  },
  {
   "cell_type": "code",
   "execution_count": null,
   "id": "fe49e99f",
   "metadata": {},
   "outputs": [],
   "source": [
    "# -------------------------------\n",
    "# 🔄 Procesar solo primer artículo como prueba\n",
    "# -------------------------------\n",
    "for page_numSage in range(1, 2):  # 👈 luego puedes ampliar a más páginas\n",
    "    print(f\"📄 Procesando página {page_numSage}...\")\n",
    "\n",
    "    try:\n",
    "        resultados = WebDriverWait(driver, 10).until(\n",
    "            EC.presence_of_all_elements_located(\n",
    "                (By.CSS_SELECTOR, \"li.sage-card-flow__item a.sage-link\")\n",
    "            )\n",
    "        )\n",
    "\n",
    "        for idx, enlace in enumerate(resultados[:1], 1):  # 👈 de momento solo el 1º\n",
    "            titulo = enlace.text.strip()\n",
    "            url = enlace.get_attribute(\"href\")\n",
    "            print(f\"🔗 [{idx}] {titulo}\")\n",
    "\n",
    "            try:\n",
    "                # 👉 abrir en la misma pestaña\n",
    "                driver.get(url)\n",
    "                time.sleep(3)\n",
    "\n",
    "                cerrar_cookies(driver)\n",
    "\n",
    "                # 👉 abrir Cite\n",
    "                cite_button = WebDriverWait(driver, 10).until(\n",
    "                    EC.element_to_be_clickable((By.ID, \"cite-v-1\"))\n",
    "                )\n",
    "                driver.execute_script(\"arguments[0].click();\", cite_button)\n",
    "                print(\"📑 Clic en botón 'Cite' hecho\")\n",
    "\n",
    "                # \udc49 seleccionar BibTeX (esperar a que el select sea visible)\n",
    "                export_dropdown = WebDriverWait(driver, 15).until(\n",
    "                    EC.visibility_of_element_located((By.CSS_SELECTOR, \"select.sage-select__select[aria-label='Export to your reference manager']\"))\n",
    "                )\n",
    "                from selenium.webdriver.support.ui import Select\n",
    "                Select(export_dropdown).select_by_visible_text(\"BibTeX\")\n",
    "                time.sleep(1)\n",
    "\n",
    "                # 👉 hacer scroll al final del contenedor de exportación para asegurar visibilidad del botón\n",
    "                try:\n",
    "                    export_container = export_dropdown.find_element(By.XPATH, \"ancestor::fieldset\")\n",
    "                    driver.execute_script(\"arguments[0].scrollTop = arguments[0].scrollHeight\", export_container)\n",
    "                    time.sleep(1)\n",
    "                except Exception as e:\n",
    "                    print(f\"ℹ️ No se pudo hacer scroll en el contenedor de exportación: {e}\")\n",
    "\n",
    "                # 👉 botón Export (esperar que sea clickeable y hacer clic)\n",
    "                export_button = WebDriverWait(driver, 10).until(\n",
    "                    EC.element_to_be_clickable((By.XPATH, \"//button[normalize-space()='EXPORT']\"))\n",
    "                )\n",
    "                driver.execute_script(\"arguments[0].scrollIntoView();\", export_button)\n",
    "                time.sleep(0.5)\n",
    "                try:\n",
    "                    export_button.click()\n",
    "                except:\n",
    "                    driver.execute_script(\"arguments[0].click();\", export_button)\n",
    "                print(\"⬇️ Descargando BibTeX...\")\n",
    "\n",
    "                # 👉 renombrar archivo descargado\n",
    "                nuevo_archivo = esperar_descarga(download_path, 20)\n",
    "                if nuevo_archivo:\n",
    "                    nuevo_nombre = f\"sage_p{page_numSage}_ref{idx}.bib\"\n",
    "                    os.rename(nuevo_archivo, os.path.join(download_path, nuevo_nombre))\n",
    "                    print(f\"✅ Guardado como: {nuevo_nombre}\")\n",
    "                else:\n",
    "                    print(f\"❌ No se detectó descarga de {titulo}\")\n",
    "\n",
    "            except Exception as e:\n",
    "                print(f\"⚠️ Error con referencia {idx}: {e}\")\n",
    "\n",
    "    except Exception as e:\n",
    "        print(f\"⚠️ No se pudieron extraer resultados en página {page_numSage}: {e}\")\n",
    "\n",
    "print(\"✅ ¡Prueba completada! (solo primer artículo de la primera página)\")"
   ]
  }
 ],
 "metadata": {
  "kernelspec": {
   "display_name": "Python 3",
   "language": "python",
   "name": "python3"
  },
  "language_info": {
   "codemirror_mode": {
    "name": "ipython",
    "version": 3
   },
   "file_extension": ".py",
   "mimetype": "text/x-python",
   "name": "python",
   "nbconvert_exporter": "python",
   "pygments_lexer": "ipython3",
   "version": "3.13.6"
  }
 },
 "nbformat": 4,
 "nbformat_minor": 5
}
